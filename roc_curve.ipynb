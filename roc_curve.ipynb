{
 "cells": [
  {
   "cell_type": "markdown",
   "id": "0f798691",
   "metadata": {},
   "source": [
    "##### Bitirme Projesi"
   ]
  },
  {
   "cell_type": "code",
   "execution_count": 4,
   "id": "a62fd037",
   "metadata": {},
   "outputs": [],
   "source": [
    "import numpy as np\n",
    "import pandas as pd\n",
    "import seaborn as sns\n",
    "import matplotlib.pyplot as plt\n",
    "from scipy.stats import norm\n",
    "\n",
    "from sklearn import preprocessing\n",
    "from sklearn.preprocessing import FunctionTransformer\n",
    "from imblearn.over_sampling import SMOTE\n",
    "from sklearn.metrics import f1_score,accuracy_score\n",
    "from sklearn.metrics import roc_auc_score\n",
    "from sklearn import metrics\n",
    "from sklearn.preprocessing import RobustScaler,StandardScaler\n",
    "\n",
    "import warnings\n",
    "sns.set()\n",
    "warnings.filterwarnings('ignore')"
   ]
  },
  {
   "cell_type": "code",
   "execution_count": 5,
   "id": "9d345f4e",
   "metadata": {},
   "outputs": [],
   "source": [
    "training = '/Users/beyazituysal/Documents/PythonProjects/bitirme projesi cern root/training.csv'\n",
    "testing = '/Users/beyazituysal/Documents/PythonProjects/bitirme projesi cern root/test.csv'\n",
    "random_sub = '/Users/beyazituysal/Documents/PythonProjects/bitirme projesi cern root/random_submission.csv'\n",
    "train = pd.read_csv(training)\n",
    "test = pd.read_csv(testing)\n",
    "random = pd.read_csv(random_sub)"
   ]
  },
  {
   "cell_type": "code",
   "execution_count": 6,
   "id": "c0685c80",
   "metadata": {},
   "outputs": [
    {
     "data": {
      "text/html": [
       "<div>\n",
       "<style scoped>\n",
       "    .dataframe tbody tr th:only-of-type {\n",
       "        vertical-align: middle;\n",
       "    }\n",
       "\n",
       "    .dataframe tbody tr th {\n",
       "        vertical-align: top;\n",
       "    }\n",
       "\n",
       "    .dataframe thead th {\n",
       "        text-align: right;\n",
       "    }\n",
       "</style>\n",
       "<table border=\"1\" class=\"dataframe\">\n",
       "  <thead>\n",
       "    <tr style=\"text-align: right;\">\n",
       "      <th></th>\n",
       "      <th>EventId</th>\n",
       "      <th>DER_mass_MMC</th>\n",
       "      <th>DER_mass_transverse_met_lep</th>\n",
       "      <th>DER_mass_vis</th>\n",
       "      <th>DER_pt_h</th>\n",
       "      <th>DER_deltaeta_jet_jet</th>\n",
       "      <th>DER_mass_jet_jet</th>\n",
       "      <th>DER_prodeta_jet_jet</th>\n",
       "      <th>DER_deltar_tau_lep</th>\n",
       "      <th>DER_pt_tot</th>\n",
       "      <th>...</th>\n",
       "      <th>PRI_jet_num</th>\n",
       "      <th>PRI_jet_leading_pt</th>\n",
       "      <th>PRI_jet_leading_eta</th>\n",
       "      <th>PRI_jet_leading_phi</th>\n",
       "      <th>PRI_jet_subleading_pt</th>\n",
       "      <th>PRI_jet_subleading_eta</th>\n",
       "      <th>PRI_jet_subleading_phi</th>\n",
       "      <th>PRI_jet_all_pt</th>\n",
       "      <th>Weight</th>\n",
       "      <th>Label</th>\n",
       "    </tr>\n",
       "  </thead>\n",
       "  <tbody>\n",
       "    <tr>\n",
       "      <th>0</th>\n",
       "      <td>100000</td>\n",
       "      <td>138.470</td>\n",
       "      <td>51.655</td>\n",
       "      <td>97.827</td>\n",
       "      <td>27.980</td>\n",
       "      <td>0.91</td>\n",
       "      <td>124.711</td>\n",
       "      <td>2.666</td>\n",
       "      <td>3.064</td>\n",
       "      <td>41.928</td>\n",
       "      <td>...</td>\n",
       "      <td>2</td>\n",
       "      <td>67.435</td>\n",
       "      <td>2.150</td>\n",
       "      <td>0.444</td>\n",
       "      <td>46.062</td>\n",
       "      <td>1.24</td>\n",
       "      <td>-2.475</td>\n",
       "      <td>113.497</td>\n",
       "      <td>0.002653</td>\n",
       "      <td>s</td>\n",
       "    </tr>\n",
       "    <tr>\n",
       "      <th>1</th>\n",
       "      <td>100001</td>\n",
       "      <td>160.937</td>\n",
       "      <td>68.768</td>\n",
       "      <td>103.235</td>\n",
       "      <td>48.146</td>\n",
       "      <td>-999.00</td>\n",
       "      <td>-999.000</td>\n",
       "      <td>-999.000</td>\n",
       "      <td>3.473</td>\n",
       "      <td>2.078</td>\n",
       "      <td>...</td>\n",
       "      <td>1</td>\n",
       "      <td>46.226</td>\n",
       "      <td>0.725</td>\n",
       "      <td>1.158</td>\n",
       "      <td>-999.000</td>\n",
       "      <td>-999.00</td>\n",
       "      <td>-999.000</td>\n",
       "      <td>46.226</td>\n",
       "      <td>2.233584</td>\n",
       "      <td>b</td>\n",
       "    </tr>\n",
       "    <tr>\n",
       "      <th>2</th>\n",
       "      <td>100002</td>\n",
       "      <td>-999.000</td>\n",
       "      <td>162.172</td>\n",
       "      <td>125.953</td>\n",
       "      <td>35.635</td>\n",
       "      <td>-999.00</td>\n",
       "      <td>-999.000</td>\n",
       "      <td>-999.000</td>\n",
       "      <td>3.148</td>\n",
       "      <td>9.336</td>\n",
       "      <td>...</td>\n",
       "      <td>1</td>\n",
       "      <td>44.251</td>\n",
       "      <td>2.053</td>\n",
       "      <td>-2.028</td>\n",
       "      <td>-999.000</td>\n",
       "      <td>-999.00</td>\n",
       "      <td>-999.000</td>\n",
       "      <td>44.251</td>\n",
       "      <td>2.347389</td>\n",
       "      <td>b</td>\n",
       "    </tr>\n",
       "    <tr>\n",
       "      <th>3</th>\n",
       "      <td>100003</td>\n",
       "      <td>143.905</td>\n",
       "      <td>81.417</td>\n",
       "      <td>80.943</td>\n",
       "      <td>0.414</td>\n",
       "      <td>-999.00</td>\n",
       "      <td>-999.000</td>\n",
       "      <td>-999.000</td>\n",
       "      <td>3.310</td>\n",
       "      <td>0.414</td>\n",
       "      <td>...</td>\n",
       "      <td>0</td>\n",
       "      <td>-999.000</td>\n",
       "      <td>-999.000</td>\n",
       "      <td>-999.000</td>\n",
       "      <td>-999.000</td>\n",
       "      <td>-999.00</td>\n",
       "      <td>-999.000</td>\n",
       "      <td>-0.000</td>\n",
       "      <td>5.446378</td>\n",
       "      <td>b</td>\n",
       "    </tr>\n",
       "    <tr>\n",
       "      <th>4</th>\n",
       "      <td>100004</td>\n",
       "      <td>175.864</td>\n",
       "      <td>16.915</td>\n",
       "      <td>134.805</td>\n",
       "      <td>16.405</td>\n",
       "      <td>-999.00</td>\n",
       "      <td>-999.000</td>\n",
       "      <td>-999.000</td>\n",
       "      <td>3.891</td>\n",
       "      <td>16.405</td>\n",
       "      <td>...</td>\n",
       "      <td>0</td>\n",
       "      <td>-999.000</td>\n",
       "      <td>-999.000</td>\n",
       "      <td>-999.000</td>\n",
       "      <td>-999.000</td>\n",
       "      <td>-999.00</td>\n",
       "      <td>-999.000</td>\n",
       "      <td>0.000</td>\n",
       "      <td>6.245333</td>\n",
       "      <td>b</td>\n",
       "    </tr>\n",
       "  </tbody>\n",
       "</table>\n",
       "<p>5 rows × 33 columns</p>\n",
       "</div>"
      ],
      "text/plain": [
       "   EventId  DER_mass_MMC  DER_mass_transverse_met_lep  DER_mass_vis  DER_pt_h  \\\n",
       "0   100000       138.470                       51.655        97.827    27.980   \n",
       "1   100001       160.937                       68.768       103.235    48.146   \n",
       "2   100002      -999.000                      162.172       125.953    35.635   \n",
       "3   100003       143.905                       81.417        80.943     0.414   \n",
       "4   100004       175.864                       16.915       134.805    16.405   \n",
       "\n",
       "   DER_deltaeta_jet_jet  DER_mass_jet_jet  DER_prodeta_jet_jet  \\\n",
       "0                  0.91           124.711                2.666   \n",
       "1               -999.00          -999.000             -999.000   \n",
       "2               -999.00          -999.000             -999.000   \n",
       "3               -999.00          -999.000             -999.000   \n",
       "4               -999.00          -999.000             -999.000   \n",
       "\n",
       "   DER_deltar_tau_lep  DER_pt_tot  ...  PRI_jet_num  PRI_jet_leading_pt  \\\n",
       "0               3.064      41.928  ...            2              67.435   \n",
       "1               3.473       2.078  ...            1              46.226   \n",
       "2               3.148       9.336  ...            1              44.251   \n",
       "3               3.310       0.414  ...            0            -999.000   \n",
       "4               3.891      16.405  ...            0            -999.000   \n",
       "\n",
       "   PRI_jet_leading_eta  PRI_jet_leading_phi  PRI_jet_subleading_pt  \\\n",
       "0                2.150                0.444                 46.062   \n",
       "1                0.725                1.158               -999.000   \n",
       "2                2.053               -2.028               -999.000   \n",
       "3             -999.000             -999.000               -999.000   \n",
       "4             -999.000             -999.000               -999.000   \n",
       "\n",
       "   PRI_jet_subleading_eta  PRI_jet_subleading_phi  PRI_jet_all_pt    Weight  \\\n",
       "0                    1.24                  -2.475         113.497  0.002653   \n",
       "1                 -999.00                -999.000          46.226  2.233584   \n",
       "2                 -999.00                -999.000          44.251  2.347389   \n",
       "3                 -999.00                -999.000          -0.000  5.446378   \n",
       "4                 -999.00                -999.000           0.000  6.245333   \n",
       "\n",
       "   Label  \n",
       "0      s  \n",
       "1      b  \n",
       "2      b  \n",
       "3      b  \n",
       "4      b  \n",
       "\n",
       "[5 rows x 33 columns]"
      ]
     },
     "execution_count": 6,
     "metadata": {},
     "output_type": "execute_result"
    }
   ],
   "source": [
    "train.head()"
   ]
  },
  {
   "cell_type": "code",
   "execution_count": 7,
   "id": "62cd2a68",
   "metadata": {},
   "outputs": [
    {
     "name": "stdout",
     "output_type": "stream",
     "text": [
      "<class 'pandas.core.frame.DataFrame'>\n",
      "RangeIndex: 250000 entries, 0 to 249999\n",
      "Data columns (total 33 columns):\n",
      " #   Column                       Non-Null Count   Dtype  \n",
      "---  ------                       --------------   -----  \n",
      " 0   EventId                      250000 non-null  int64  \n",
      " 1   DER_mass_MMC                 250000 non-null  float64\n",
      " 2   DER_mass_transverse_met_lep  250000 non-null  float64\n",
      " 3   DER_mass_vis                 250000 non-null  float64\n",
      " 4   DER_pt_h                     250000 non-null  float64\n",
      " 5   DER_deltaeta_jet_jet         250000 non-null  float64\n",
      " 6   DER_mass_jet_jet             250000 non-null  float64\n",
      " 7   DER_prodeta_jet_jet          250000 non-null  float64\n",
      " 8   DER_deltar_tau_lep           250000 non-null  float64\n",
      " 9   DER_pt_tot                   250000 non-null  float64\n",
      " 10  DER_sum_pt                   250000 non-null  float64\n",
      " 11  DER_pt_ratio_lep_tau         250000 non-null  float64\n",
      " 12  DER_met_phi_centrality       250000 non-null  float64\n",
      " 13  DER_lep_eta_centrality       250000 non-null  float64\n",
      " 14  PRI_tau_pt                   250000 non-null  float64\n",
      " 15  PRI_tau_eta                  250000 non-null  float64\n",
      " 16  PRI_tau_phi                  250000 non-null  float64\n",
      " 17  PRI_lep_pt                   250000 non-null  float64\n",
      " 18  PRI_lep_eta                  250000 non-null  float64\n",
      " 19  PRI_lep_phi                  250000 non-null  float64\n",
      " 20  PRI_met                      250000 non-null  float64\n",
      " 21  PRI_met_phi                  250000 non-null  float64\n",
      " 22  PRI_met_sumet                250000 non-null  float64\n",
      " 23  PRI_jet_num                  250000 non-null  int64  \n",
      " 24  PRI_jet_leading_pt           250000 non-null  float64\n",
      " 25  PRI_jet_leading_eta          250000 non-null  float64\n",
      " 26  PRI_jet_leading_phi          250000 non-null  float64\n",
      " 27  PRI_jet_subleading_pt        250000 non-null  float64\n",
      " 28  PRI_jet_subleading_eta       250000 non-null  float64\n",
      " 29  PRI_jet_subleading_phi       250000 non-null  float64\n",
      " 30  PRI_jet_all_pt               250000 non-null  float64\n",
      " 31  Weight                       250000 non-null  float64\n",
      " 32  Label                        250000 non-null  object \n",
      "dtypes: float64(30), int64(2), object(1)\n",
      "memory usage: 62.9+ MB\n"
     ]
    }
   ],
   "source": [
    "\n",
    "train.info()"
   ]
  },
  {
   "cell_type": "markdown",
   "id": "e1710cf9",
   "metadata": {},
   "source": [
    "weight ve label colonunu çıkartıyoruz"
   ]
  },
  {
   "cell_type": "code",
   "execution_count": 8,
   "id": "3ebb3302",
   "metadata": {},
   "outputs": [],
   "source": [
    "X_training = train.drop(['Weight','Label'], axis = \"columns\")"
   ]
  },
  {
   "cell_type": "markdown",
   "id": "e2b7ecf0",
   "metadata": {},
   "source": [
    "EventId sütununu 'X_training' veri kümesinin indeksi olarak ayarlıyoruz"
   ]
  },
  {
   "cell_type": "code",
   "execution_count": 9,
   "id": "78093b54",
   "metadata": {},
   "outputs": [],
   "source": [
    "X_training.set_index(\"EventId\", inplace = True)"
   ]
  },
  {
   "cell_type": "markdown",
   "id": "212565dd",
   "metadata": {},
   "source": [
    "'LabelEncoder' sınıfı, 'train1' veri kümesindeki hedef değişkeni 'Label' sütununu sayısal olarak kodlayarak, makine öğrenimi modelinin eğitimi için kullanılabilecek şekilde yeni bir veri kümesi oluşturur."
   ]
  },
  {
   "cell_type": "code",
   "execution_count": 10,
   "id": "145c43d0",
   "metadata": {},
   "outputs": [],
   "source": [
    "label_encoder = preprocessing.LabelEncoder()\n",
    "train1 = train['Label']"
   ]
  },
  {
   "cell_type": "markdown",
   "id": "28bd5a39",
   "metadata": {},
   "source": [
    "'LabelEncoder' sınıfının 'fit_transform' yöntemini kullanarak 'train1' veri kümesindeki etiket değerlerini sayısal olarak kodlar ve bu yeni kodlanmış etiketleri 'y_training' adlı değişkene atar."
   ]
  },
  {
   "cell_type": "code",
   "execution_count": 11,
   "id": "ceca1d69",
   "metadata": {},
   "outputs": [],
   "source": [
    "y_training = label_encoder.fit_transform(train1)"
   ]
  },
  {
   "cell_type": "code",
   "execution_count": 12,
   "id": "ea943d13",
   "metadata": {},
   "outputs": [
    {
     "data": {
      "text/html": [
       "<div>\n",
       "<style scoped>\n",
       "    .dataframe tbody tr th:only-of-type {\n",
       "        vertical-align: middle;\n",
       "    }\n",
       "\n",
       "    .dataframe tbody tr th {\n",
       "        vertical-align: top;\n",
       "    }\n",
       "\n",
       "    .dataframe thead th {\n",
       "        text-align: right;\n",
       "    }\n",
       "</style>\n",
       "<table border=\"1\" class=\"dataframe\">\n",
       "  <thead>\n",
       "    <tr style=\"text-align: right;\">\n",
       "      <th></th>\n",
       "      <th>DER_mass_MMC</th>\n",
       "      <th>DER_mass_transverse_met_lep</th>\n",
       "      <th>DER_mass_vis</th>\n",
       "      <th>DER_pt_h</th>\n",
       "      <th>DER_deltaeta_jet_jet</th>\n",
       "      <th>DER_mass_jet_jet</th>\n",
       "      <th>DER_prodeta_jet_jet</th>\n",
       "      <th>DER_deltar_tau_lep</th>\n",
       "      <th>DER_pt_tot</th>\n",
       "      <th>DER_sum_pt</th>\n",
       "      <th>...</th>\n",
       "      <th>PRI_met_phi</th>\n",
       "      <th>PRI_met_sumet</th>\n",
       "      <th>PRI_jet_num</th>\n",
       "      <th>PRI_jet_leading_pt</th>\n",
       "      <th>PRI_jet_leading_eta</th>\n",
       "      <th>PRI_jet_leading_phi</th>\n",
       "      <th>PRI_jet_subleading_pt</th>\n",
       "      <th>PRI_jet_subleading_eta</th>\n",
       "      <th>PRI_jet_subleading_phi</th>\n",
       "      <th>PRI_jet_all_pt</th>\n",
       "    </tr>\n",
       "    <tr>\n",
       "      <th>EventId</th>\n",
       "      <th></th>\n",
       "      <th></th>\n",
       "      <th></th>\n",
       "      <th></th>\n",
       "      <th></th>\n",
       "      <th></th>\n",
       "      <th></th>\n",
       "      <th></th>\n",
       "      <th></th>\n",
       "      <th></th>\n",
       "      <th></th>\n",
       "      <th></th>\n",
       "      <th></th>\n",
       "      <th></th>\n",
       "      <th></th>\n",
       "      <th></th>\n",
       "      <th></th>\n",
       "      <th></th>\n",
       "      <th></th>\n",
       "      <th></th>\n",
       "      <th></th>\n",
       "    </tr>\n",
       "  </thead>\n",
       "  <tbody>\n",
       "    <tr>\n",
       "      <th>100000</th>\n",
       "      <td>138.470</td>\n",
       "      <td>51.655</td>\n",
       "      <td>97.827</td>\n",
       "      <td>27.980</td>\n",
       "      <td>0.91</td>\n",
       "      <td>124.711</td>\n",
       "      <td>2.666</td>\n",
       "      <td>3.064</td>\n",
       "      <td>41.928</td>\n",
       "      <td>197.760</td>\n",
       "      <td>...</td>\n",
       "      <td>-0.277</td>\n",
       "      <td>258.733</td>\n",
       "      <td>2</td>\n",
       "      <td>67.435</td>\n",
       "      <td>2.150</td>\n",
       "      <td>0.444</td>\n",
       "      <td>46.062</td>\n",
       "      <td>1.24</td>\n",
       "      <td>-2.475</td>\n",
       "      <td>113.497</td>\n",
       "    </tr>\n",
       "    <tr>\n",
       "      <th>100001</th>\n",
       "      <td>160.937</td>\n",
       "      <td>68.768</td>\n",
       "      <td>103.235</td>\n",
       "      <td>48.146</td>\n",
       "      <td>-999.00</td>\n",
       "      <td>-999.000</td>\n",
       "      <td>-999.000</td>\n",
       "      <td>3.473</td>\n",
       "      <td>2.078</td>\n",
       "      <td>125.157</td>\n",
       "      <td>...</td>\n",
       "      <td>-1.916</td>\n",
       "      <td>164.546</td>\n",
       "      <td>1</td>\n",
       "      <td>46.226</td>\n",
       "      <td>0.725</td>\n",
       "      <td>1.158</td>\n",
       "      <td>-999.000</td>\n",
       "      <td>-999.00</td>\n",
       "      <td>-999.000</td>\n",
       "      <td>46.226</td>\n",
       "    </tr>\n",
       "    <tr>\n",
       "      <th>100002</th>\n",
       "      <td>-999.000</td>\n",
       "      <td>162.172</td>\n",
       "      <td>125.953</td>\n",
       "      <td>35.635</td>\n",
       "      <td>-999.00</td>\n",
       "      <td>-999.000</td>\n",
       "      <td>-999.000</td>\n",
       "      <td>3.148</td>\n",
       "      <td>9.336</td>\n",
       "      <td>197.814</td>\n",
       "      <td>...</td>\n",
       "      <td>-2.186</td>\n",
       "      <td>260.414</td>\n",
       "      <td>1</td>\n",
       "      <td>44.251</td>\n",
       "      <td>2.053</td>\n",
       "      <td>-2.028</td>\n",
       "      <td>-999.000</td>\n",
       "      <td>-999.00</td>\n",
       "      <td>-999.000</td>\n",
       "      <td>44.251</td>\n",
       "    </tr>\n",
       "    <tr>\n",
       "      <th>100003</th>\n",
       "      <td>143.905</td>\n",
       "      <td>81.417</td>\n",
       "      <td>80.943</td>\n",
       "      <td>0.414</td>\n",
       "      <td>-999.00</td>\n",
       "      <td>-999.000</td>\n",
       "      <td>-999.000</td>\n",
       "      <td>3.310</td>\n",
       "      <td>0.414</td>\n",
       "      <td>75.968</td>\n",
       "      <td>...</td>\n",
       "      <td>0.060</td>\n",
       "      <td>86.062</td>\n",
       "      <td>0</td>\n",
       "      <td>-999.000</td>\n",
       "      <td>-999.000</td>\n",
       "      <td>-999.000</td>\n",
       "      <td>-999.000</td>\n",
       "      <td>-999.00</td>\n",
       "      <td>-999.000</td>\n",
       "      <td>-0.000</td>\n",
       "    </tr>\n",
       "    <tr>\n",
       "      <th>100004</th>\n",
       "      <td>175.864</td>\n",
       "      <td>16.915</td>\n",
       "      <td>134.805</td>\n",
       "      <td>16.405</td>\n",
       "      <td>-999.00</td>\n",
       "      <td>-999.000</td>\n",
       "      <td>-999.000</td>\n",
       "      <td>3.891</td>\n",
       "      <td>16.405</td>\n",
       "      <td>57.983</td>\n",
       "      <td>...</td>\n",
       "      <td>-0.871</td>\n",
       "      <td>53.131</td>\n",
       "      <td>0</td>\n",
       "      <td>-999.000</td>\n",
       "      <td>-999.000</td>\n",
       "      <td>-999.000</td>\n",
       "      <td>-999.000</td>\n",
       "      <td>-999.00</td>\n",
       "      <td>-999.000</td>\n",
       "      <td>0.000</td>\n",
       "    </tr>\n",
       "  </tbody>\n",
       "</table>\n",
       "<p>5 rows × 30 columns</p>\n",
       "</div>"
      ],
      "text/plain": [
       "         DER_mass_MMC  DER_mass_transverse_met_lep  DER_mass_vis  DER_pt_h  \\\n",
       "EventId                                                                      \n",
       "100000        138.470                       51.655        97.827    27.980   \n",
       "100001        160.937                       68.768       103.235    48.146   \n",
       "100002       -999.000                      162.172       125.953    35.635   \n",
       "100003        143.905                       81.417        80.943     0.414   \n",
       "100004        175.864                       16.915       134.805    16.405   \n",
       "\n",
       "         DER_deltaeta_jet_jet  DER_mass_jet_jet  DER_prodeta_jet_jet  \\\n",
       "EventId                                                                \n",
       "100000                   0.91           124.711                2.666   \n",
       "100001                -999.00          -999.000             -999.000   \n",
       "100002                -999.00          -999.000             -999.000   \n",
       "100003                -999.00          -999.000             -999.000   \n",
       "100004                -999.00          -999.000             -999.000   \n",
       "\n",
       "         DER_deltar_tau_lep  DER_pt_tot  DER_sum_pt  ...  PRI_met_phi  \\\n",
       "EventId                                              ...                \n",
       "100000                3.064      41.928     197.760  ...       -0.277   \n",
       "100001                3.473       2.078     125.157  ...       -1.916   \n",
       "100002                3.148       9.336     197.814  ...       -2.186   \n",
       "100003                3.310       0.414      75.968  ...        0.060   \n",
       "100004                3.891      16.405      57.983  ...       -0.871   \n",
       "\n",
       "         PRI_met_sumet  PRI_jet_num  PRI_jet_leading_pt  PRI_jet_leading_eta  \\\n",
       "EventId                                                                        \n",
       "100000         258.733            2              67.435                2.150   \n",
       "100001         164.546            1              46.226                0.725   \n",
       "100002         260.414            1              44.251                2.053   \n",
       "100003          86.062            0            -999.000             -999.000   \n",
       "100004          53.131            0            -999.000             -999.000   \n",
       "\n",
       "         PRI_jet_leading_phi  PRI_jet_subleading_pt  PRI_jet_subleading_eta  \\\n",
       "EventId                                                                       \n",
       "100000                 0.444                 46.062                    1.24   \n",
       "100001                 1.158               -999.000                 -999.00   \n",
       "100002                -2.028               -999.000                 -999.00   \n",
       "100003              -999.000               -999.000                 -999.00   \n",
       "100004              -999.000               -999.000                 -999.00   \n",
       "\n",
       "         PRI_jet_subleading_phi  PRI_jet_all_pt  \n",
       "EventId                                          \n",
       "100000                   -2.475         113.497  \n",
       "100001                 -999.000          46.226  \n",
       "100002                 -999.000          44.251  \n",
       "100003                 -999.000          -0.000  \n",
       "100004                 -999.000           0.000  \n",
       "\n",
       "[5 rows x 30 columns]"
      ]
     },
     "execution_count": 12,
     "metadata": {},
     "output_type": "execute_result"
    }
   ],
   "source": [
    "X_training.head()"
   ]
  },
  {
   "cell_type": "markdown",
   "id": "45aaeb05",
   "metadata": {},
   "source": [
    "### correlation matrix hesaplama"
   ]
  },
  {
   "cell_type": "markdown",
   "id": "2e59b61b",
   "metadata": {},
   "source": [
    "'corr' fonksiyonu ile 'X_training' veri kümesindeki tüm bağımsız değişkenler arasındaki Pearson korelasyon katsayılarını hesaplar ve sonuç olarak bir korelasyon matrisi oluşturur."
   ]
  },
  {
   "cell_type": "code",
   "execution_count": 13,
   "id": "45c01b23",
   "metadata": {},
   "outputs": [],
   "source": [
    "corr_matrix = X_training.corr()"
   ]
  },
  {
   "cell_type": "markdown",
   "id": "1705b740",
   "metadata": {},
   "source": [
    "korelasyon matrisindeki sütun sayısından 1 çıkararak bir döngü aralığı belirler."
   ]
  },
  {
   "cell_type": "code",
   "execution_count": 14,
   "id": "81af50ab",
   "metadata": {},
   "outputs": [],
   "source": [
    "iters = range(len(corr_matrix.columns) - 1)"
   ]
  },
  {
   "cell_type": "markdown",
   "id": "c7a3d9da",
   "metadata": {},
   "source": [
    "yüksek korelasyona sahip değişkenleri tespit etmek için kullanılır. Döngü, korelasyon matrisindeki her bir sütununun diğer sütunlarıyla karşılaştırılmasını sağlar. Eğer bir sütun ile diğer sütun arasındaki korelasyon katsayısı, belirli bir 'threshold' değerinden büyükse, o sütun 'drop_cols' listesine eklenir."
   ]
  },
  {
   "cell_type": "code",
   "execution_count": 15,
   "id": "5fac8995",
   "metadata": {},
   "outputs": [],
   "source": [
    "drop_cols = []"
   ]
  },
  {
   "cell_type": "markdown",
   "id": "5869c9bd",
   "metadata": {},
   "source": [
    "belirli bir 'threshold' değerinin (0.9) belirlenmesiyle ilgilidir. Bu değer, yüksek korelasyona sahip değişkenlerin ne kadarının tespit edileceğini belirler."
   ]
  },
  {
   "cell_type": "code",
   "execution_count": 16,
   "id": "c13b4dfe",
   "metadata": {},
   "outputs": [],
   "source": [
    "threshold = 0.9"
   ]
  },
  {
   "cell_type": "markdown",
   "id": "278491e7",
   "metadata": {},
   "source": [
    "### Korelasyon matrisi üzerinde döngü yaparak korelasyonları karşılaştırma"
   ]
  },
  {
   "cell_type": "code",
   "execution_count": 17,
   "id": "f3f93b3c",
   "metadata": {},
   "outputs": [
    {
     "name": "stdout",
     "output_type": "stream",
     "text": [
      "Kaldırılan kolonlar {'DER_lep_eta_centrality', 'PRI_jet_subleading_pt', 'PRI_jet_subleading_eta', 'DER_mass_jet_jet', 'PRI_jet_subleading_phi', 'DER_prodeta_jet_jet', 'PRI_jet_leading_phi', 'PRI_jet_all_pt', 'PRI_jet_leading_eta', 'PRI_met_sumet'}\n"
     ]
    }
   ],
   "source": [
    "for i in iters:\n",
    "  for j in range(i+1):\n",
    "    item = corr_matrix.iloc[j:(j+1), (i+1):(i+2)]\n",
    "    col = item.columns\n",
    "    row = item.index\n",
    "    val = abs(item.values)\n",
    "# Eğer korelasyon değeri, belirlenen eşik değerini aşarsa\n",
    "    if val >= threshold:\n",
    "      drop_cols.append(col.values[0])\n",
    "\n",
    "# Korelasyonlu sütunların her birinden bir tanesini çıkar\n",
    "drops = set(drop_cols)\n",
    "X_training_dropped = X_training.drop(columns=drops)\n",
    "\n",
    "print('Kaldırılan kolonlar {}'.format(drops))"
   ]
  },
  {
   "cell_type": "markdown",
   "id": "7d94ffda",
   "metadata": {},
   "source": [
    "Bu kod, \"X_training_dropped\" adlı bir veri kümesinin çarpıklık (skewness) ölçülerini hesaplayarak \"X_skew\" adlı yeni bir veri kümesi oluşturur. \"skewness\", bir değişkenin dağılımının simetrik olmama derecesini ifade eder."
   ]
  },
  {
   "cell_type": "code",
   "execution_count": 18,
   "id": "35c6fd4c",
   "metadata": {},
   "outputs": [],
   "source": [
    "X_skew = X_training_dropped.skew()"
   ]
  },
  {
   "cell_type": "markdown",
   "id": "0de7f712",
   "metadata": {},
   "source": [
    "StandardScaler()\" sınıfı kullanılarak, veri kümesindeki özellikler ölçeklendirilir. \"X_training_dropped\" veri kümesindeki özellikler \"fit_transform()\" yöntemi ile ölçeklendirilerek, ölçeklendirilmiş özellikler \"robust_df\" adlı yeni bir veri kümesinde saklanır. Daha sonra \"pd.DataFrame()\" fonksiyonu kullanılarak, ölçeklendirilmiş özelliklerin bulunduğu \"robust_df\" veri kümesi, \"X_training_dropped\" veri kümesinin sütun isimleri ile aynı isimlere sahip sütunlara sahip olarak yeniden düzenlenir. Bu işlem sonucunda, veri kümesindeki tüm özelliklerin aynı ölçeklendirme yöntemi ile ölçeklendirilmesi sağlanır."
   ]
  },
  {
   "cell_type": "code",
   "execution_count": 19,
   "id": "922829ad",
   "metadata": {},
   "outputs": [],
   "source": [
    "scaler = StandardScaler()\n",
    "robust_df = scaler.fit_transform(X_training_dropped)\n",
    "robust_df = pd.DataFrame(robust_df, columns = X_training_dropped.columns)"
   ]
  },
  {
   "cell_type": "code",
   "execution_count": 20,
   "id": "f5852b83",
   "metadata": {},
   "outputs": [],
   "source": [
    "X_training_skewed = robust_df"
   ]
  },
  {
   "cell_type": "markdown",
   "id": "569201ac",
   "metadata": {},
   "source": [
    "\"x_temp\" ve \"y_temp\" değişkenleri \"X_training_skewed\" ve \"y_training\" değişkenlerinin değerlerini alır. Daha sonra, \"replace()\" yöntemi kullanılarak \"x_temp\" değişkenindeki \"np.inf\", \"-np.inf\" ve \"np.nan\" değerleri sıfıra dönüştürülür. Bu işlem, veri kümesindeki sonsuz ve eksik değerlerin çıkarılması için yapılır ve sonuç olarak, temizlenmiş bir veri kümesi elde edilir."
   ]
  },
  {
   "cell_type": "code",
   "execution_count": 21,
   "id": "2d13f5d4",
   "metadata": {},
   "outputs": [],
   "source": [
    "x_temp = X_training_skewed\n",
    "y_temp = y_training\n",
    "x_temp = x_temp.replace((np.inf, -np.inf, np.nan), 0)"
   ]
  },
  {
   "cell_type": "markdown",
   "id": "c42da9bc",
   "metadata": {},
   "source": [
    "Öncelikle, \"SMOTE()\" sınıfı kullanarak veri kümesindeki azınlık sınıfının örneklerinin sayısını artırırız. Bu, azınlık sınıfındaki örnek sayısı az olan veri kümelerinde dengesizliği gidermek için kullanılan bir tekniktir. \"smt.fit_resample(x_temp,y_temp)\" işlemi ile bu işlem gerçekleştirilir ve sonuçlar \"X_temp_smooth\" ve \"y_temp_smooth\" değişkenlerinde saklanır.\n",
    "\n",
    "Daha sonra, \"X_training_balanced\" ve \"y_training_balanced\" adlı yeni veri kümeleri, önceden oluşturulan \"X_temp_smooth\" ve \"y_temp_smooth\" veri kümelerinin sütun isimleri ile aynı isimlere sahip sütunlara sahip olarak oluşturulur. Bu adım, dengelenmiş veri kümesindeki tüm özelliklerin orijinal veri kümesindeki özelliklere sahip olmasını sağlar."
   ]
  },
  {
   "cell_type": "code",
   "execution_count": 22,
   "id": "6dd87064",
   "metadata": {},
   "outputs": [],
   "source": [
    "smt = SMOTE()\n",
    "\n",
    "X_temp_smooth, y_temp_smooth = smt.fit_resample(x_temp,y_temp)\n",
    "\n",
    "X_training_balanced = pd.DataFrame(X_temp_smooth, columns=x_temp.columns)\n",
    "y_training_balanced = pd.DataFrame(y_temp_smooth, columns = ['Label'])"
   ]
  },
  {
   "cell_type": "code",
   "execution_count": 23,
   "id": "5f19f05f",
   "metadata": {},
   "outputs": [],
   "source": [
    "from sklearn.tree import DecisionTreeClassifier\n",
    "from sklearn.model_selection import cross_validate\n",
    "from sklearn.metrics import f1_score\n",
    "from sklearn.metrics import roc_auc_score\n",
    "from sklearn.model_selection import train_test_split\n",
    "from sklearn.metrics import roc_curve\n",
    "from sklearn.model_selection import cross_val_score"
   ]
  },
  {
   "cell_type": "markdown",
   "id": "f283426b",
   "metadata": {},
   "source": [
    "Veri kümesi örneklerini eğitim ve doğrulama alt kümelerine bölmek için \"train_test_split()\" yöntemi kullanılır. Eğitim alt kümesi, veri kümesinin %80'ini ve doğrulama alt kümesi, veri kümesinin %20'sini oluşturur. \"LogisticRegression()\" sınıfı kullanılarak bir lojistik regresyon modeli oluşturulur ve \"fit()\" yöntemi kullanılarak eğitilir. Daha sonra, oluşturulan model, doğrulama alt kümesindeki özellikler kullanılarak tahminler yapmak için \"predict()\" yöntemi ile kullanılır ve bu tahminler \"y_pred\" değişkeninde saklanır."
   ]
  },
  {
   "cell_type": "markdown",
   "id": "4ebfe2a2",
   "metadata": {},
   "source": [
    "Doğrulama kümesi üzerinde modelin performansını değerlendirir.\n",
    "Daha sonra, doğruluk, F1 skoru ve ROC AUC puanı ölçümlerini hesaplar ve ekrana yazdırır."
   ]
  },
  {
   "cell_type": "code",
   "execution_count": 31,
   "id": "ac294f03",
   "metadata": {},
   "outputs": [],
   "source": [
    "X_train, X_test, y_train, y_test= train_test_split(X_training_balanced,\n",
    "                                                 y_training_balanced,\n",
    "                                                 train_size=0.8,\n",
    "                                                 random_state=0)"
   ]
  },
  {
   "cell_type": "markdown",
   "id": "14b47aed",
   "metadata": {},
   "source": [
    "### LogisticRegression"
   ]
  },
  {
   "cell_type": "code",
   "execution_count": null,
   "id": "5c1bc7da",
   "metadata": {},
   "outputs": [],
   "source": [
    "from sklearn.linear_model import LogisticRegression"
   ]
  },
  {
   "cell_type": "code",
   "execution_count": 25,
   "id": "76b555de",
   "metadata": {},
   "outputs": [],
   "source": [
    "# Train\n",
    "logistic_regression = LogisticRegression()\n",
    "logistic_regression.fit(X_train, y_train)\n",
    "\n",
    "# Predict the target values for the test data\n",
    "y_prediction = logistic_regression.predict(X_test)"
   ]
  },
  {
   "cell_type": "code",
   "execution_count": 30,
   "id": "1cee305a",
   "metadata": {},
   "outputs": [
    {
     "name": "stdout",
     "output_type": "stream",
     "text": [
      "Logistic Regression Model Evaluation Metrics:\n",
      "- Accuracy: 0.744\n",
      "- F1 Score: 0.753\n",
      "- ROC AUC Score: 0.744\n",
      "\n"
     ]
    }
   ],
   "source": [
    "log_acc=accuracy_score(y_test, y_prediction)\n",
    "log_f1=f1_score(y_test, y_prediction)\n",
    "log_roc_auc=roc_auc_score(y_test, y_prediction)\n",
    "print(f'''Logistic Regression Model Evaluation Metrics:\n",
    "- Accuracy: {log_acc:.3f}\n",
    "- F1 Score: {log_f1:.3f}\n",
    "- ROC AUC Score: {log_roc_auc:.3f}\n",
    "''')"
   ]
  },
  {
   "cell_type": "markdown",
   "id": "fc9f6fd9",
   "metadata": {},
   "source": [
    "### RandomForestClassifier"
   ]
  },
  {
   "cell_type": "code",
   "execution_count": null,
   "id": "3f23dcd1",
   "metadata": {},
   "outputs": [],
   "source": [
    "from sklearn.ensemble import RandomForestClassifier"
   ]
  },
  {
   "cell_type": "code",
   "execution_count": 29,
   "id": "a990e2b9",
   "metadata": {},
   "outputs": [],
   "source": [
    "# Train\n",
    "random_forest = RandomForestClassifier()\n",
    "random_forest.fit(X_train, y_train)\n",
    "\n",
    "# Predict the target values for the test data\n",
    "y_prediction_rf = random_forest.predict(X_test)"
   ]
  },
  {
   "cell_type": "code",
   "execution_count": 28,
   "id": "353e00cd",
   "metadata": {},
   "outputs": [
    {
     "name": "stdout",
     "output_type": "stream",
     "text": [
      "Random Forest Classifier Model Evaluation Metrics:\n",
      "- Accuracy: 0.744\n",
      "- F1 Score: 0.753\n",
      "- ROC AUC Score: 0.744\n",
      "\n"
     ]
    }
   ],
   "source": [
    "rfc_acc=accuracy_score(y_test, y_prediction)\n",
    "rfc_f1=f1_score(y_test, y_prediction)\n",
    "rfc_roc_auc=roc_auc_score(y_test, y_prediction)\n",
    "print(f'''Random Forest Classifier Model Evaluation Metrics:\n",
    "- Accuracy: {rfc_acc:.3f}\n",
    "- F1 Score: {rfc_f1:.3f}\n",
    "- ROC AUC Score: {rfc_roc_auc:.3f}\n",
    "''')"
   ]
  },
  {
   "cell_type": "markdown",
   "id": "39292663",
   "metadata": {},
   "source": [
    "### KNeighborsClassifier"
   ]
  },
  {
   "cell_type": "code",
   "execution_count": 1,
   "id": "ec79d21b",
   "metadata": {},
   "outputs": [],
   "source": [
    "from sklearn.neighbors import KNeighborsClassifier"
   ]
  },
  {
   "cell_type": "code",
   "execution_count": null,
   "id": "5002f435",
   "metadata": {},
   "outputs": [],
   "source": [
    "test_score = []\n",
    "train_score = []\n",
    "\n",
    "for i in range(1, 20):\n",
    "    knn = KNeighborsClassifier(i)\n",
    "    knn.fit(X_train, y_train)\n",
    "    train_score.append(knn.score(X_train, y_train))\n",
    "    test_score.append(knn.score(X_test, y_test))\n",
    "\n",
    "# max scores\n",
    "max_train_score = max(train_score)\n",
    "train_score_ind = [i for i, v in enumerate(train_score) if v == max_train_score]\n",
    " \n",
    "max_test_score = max(test_score)\n",
    "test_score_ind = [i for i, v in enumerate(test_score) if v == max_test_score]\n",
    "\n",
    "\n",
    "print(f'Max Train Score : %{max_train_score * 100} - K : {list(map(lambda x: x+1, train_score_ind))}')\n",
    "print(f'Max Test Score : %{max_test_score * 100} - Best K : {list(map(lambda x: x+1, test_score_ind))}')\n",
    "\n",
    "# graph\n",
    "\n",
    "plt.figure(figsize=(12, 5))\n",
    "p = sns.lineplot(train_score, marker=\"*\", label=\"Train Score\")\n",
    "p = sns.lineplot(test_score, marker=\"o\", label=\"Test Score\")\n",
    "plt.show()"
   ]
  },
  {
   "cell_type": "code",
   "execution_count": 1,
   "id": "a14ee671",
   "metadata": {},
   "outputs": [
    {
     "ename": "NameError",
     "evalue": "name 'logistic_regression' is not defined",
     "output_type": "error",
     "traceback": [
      "\u001b[0;31m---------------------------------------------------------------------------\u001b[0m",
      "\u001b[0;31mNameError\u001b[0m                                 Traceback (most recent call last)",
      "Cell \u001b[0;32mIn[1], line 2\u001b[0m\n\u001b[1;32m      1\u001b[0m \u001b[38;5;66;03m# lojistik regresyon ROC eğrisi\u001b[39;00m\n\u001b[0;32m----> 2\u001b[0m y_probs_log \u001b[38;5;241m=\u001b[39m \u001b[43mlogistic_regression\u001b[49m\u001b[38;5;241m.\u001b[39mpredict_proba(x_value)[:,\u001b[38;5;241m1\u001b[39m]\n\u001b[1;32m      3\u001b[0m FPR_log, TPR_log, _ \u001b[38;5;241m=\u001b[39m roc_curve(y_value, y_probs_log)\n\u001b[1;32m      5\u001b[0m \u001b[38;5;66;03m# rastgele orman ROC eğrisi\u001b[39;00m\n",
      "\u001b[0;31mNameError\u001b[0m: name 'logistic_regression' is not defined"
     ]
    }
   ],
   "source": [
    "# lojistik regresyon ROC eğrisi\n",
    "y_probs_log = logistic_regression.predict_proba(x_value)[:,1]\n",
    "FPR_log, TPR_log, _ = roc_curve(y_value, y_probs_log)\n",
    "\n",
    "# rastgele orman ROC eğrisi\n",
    "y_probs_rf = random_forest.predict_proba(x_value)[:,1]\n",
    "FPR_rf, TPR_rf, _ = roc_curve(y_value, y_probs_rf)\n",
    "\n",
    "# rastgele orman ROC eğrisi\n",
    "y_probs_knn = random_forest.predict_proba(x_value)[:,1]\n",
    "FPR_knn, TPR_knn, _ = roc_curve(y_value, y_probs_rf)\n",
    "\n",
    "# tek bir grafikte iki ROC eğrisi çizimi\n",
    "fig, ax = plt.subplots(figsize = (8,6))\n",
    "plt.plot(FPR_log, TPR_log, label='Lojistik Regresyon')\n",
    "plt.plot(FPR_rf, TPR_rf, label='Rastgele Orman')\n",
    "plt.plot([0,1], [0,1], '--')\n",
    "plt.xlabel('False Positive Rate')\n",
    "plt.ylabel('True Positive Rate')\n",
    "plt.title('ROC Eğrileri')\n",
    "plt.legend()\n",
    "plt.show()\n"
   ]
  },
  {
   "cell_type": "code",
   "execution_count": null,
   "id": "5a38639c",
   "metadata": {},
   "outputs": [],
   "source": []
  }
 ],
 "metadata": {
  "kernelspec": {
   "display_name": "Python 3 (ipykernel)",
   "language": "python",
   "name": "python3"
  },
  "language_info": {
   "codemirror_mode": {
    "name": "ipython",
    "version": 3
   },
   "file_extension": ".py",
   "mimetype": "text/x-python",
   "name": "python",
   "nbconvert_exporter": "python",
   "pygments_lexer": "ipython3",
   "version": "3.10.11"
  }
 },
 "nbformat": 4,
 "nbformat_minor": 5
}
