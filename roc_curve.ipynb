{
  "nbformat": 4,
  "nbformat_minor": 0,
  "metadata": {
    "colab": {
      "provenance": []
    },
    "kernelspec": {
      "name": "python3",
      "display_name": "Python 3"
    },
    "language_info": {
      "name": "python"
    }
  },
  "cells": [
    {
      "cell_type": "code",
      "source": [
        "import numpy as np\n",
        "import pandas as pd\n",
        "import seaborn as sns\n",
        "import matplotlib.pyplot as plt\n",
        "\n",
        "from sklearn import preprocessing\n",
        "from imblearn.over_sampling import SMOTE\n",
        "from sklearn.metrics import f1_score,accuracy_score\n",
        "from sklearn.metrics import roc_auc_score\n",
        "from sklearn.preprocessing import StandardScaler\n",
        "\n",
        "import warnings\n",
        "sns.set()\n",
        "warnings.filterwarnings('ignore')"
      ],
      "metadata": {
        "id": "79NTYpg_FR0o"
      },
      "execution_count": null,
      "outputs": []
    },
    {
      "cell_type": "markdown",
      "source": [
        "# Data\n",
        "https://www.kaggle.com/competitions/higgs-boson/data"
      ],
      "metadata": {
        "id": "TS4FJuWBosF0"
      }
    },
    {
      "cell_type": "code",
      "source": [
        "training = '/content/training.csv'\n",
        "testing = '/content/test.csv'\n",
        "random_sub = '/content/random_submission.csv'\n",
        "train = pd.read_csv(training)\n",
        "test = pd.read_csv(testing)\n",
        "random = pd.read_csv(random_sub)"
      ],
      "metadata": {
        "id": "hOK9rdvGHrov"
      },
      "execution_count": null,
      "outputs": []
    },
    {
      "cell_type": "code",
      "source": [
        "train.head()"
      ],
      "metadata": {
        "colab": {
          "base_uri": "https://localhost:8080/",
          "height": 299
        },
        "id": "YK_Is-td7nO5",
        "outputId": "be292481-1017-456c-8484-77369198debc"
      },
      "execution_count": null,
      "outputs": [
        {
          "output_type": "execute_result",
          "data": {
            "text/plain": [
              "   EventId  DER_mass_MMC  DER_mass_transverse_met_lep  DER_mass_vis  DER_pt_h  \\\n",
              "0   100000       138.470                       51.655        97.827    27.980   \n",
              "1   100001       160.937                       68.768       103.235    48.146   \n",
              "2   100002      -999.000                      162.172       125.953    35.635   \n",
              "3   100003       143.905                       81.417        80.943     0.414   \n",
              "4   100004       175.864                       16.915       134.805    16.405   \n",
              "\n",
              "   DER_deltaeta_jet_jet  DER_mass_jet_jet  DER_prodeta_jet_jet  \\\n",
              "0                  0.91           124.711                2.666   \n",
              "1               -999.00          -999.000             -999.000   \n",
              "2               -999.00          -999.000             -999.000   \n",
              "3               -999.00          -999.000             -999.000   \n",
              "4               -999.00          -999.000             -999.000   \n",
              "\n",
              "   DER_deltar_tau_lep  DER_pt_tot  ...  PRI_jet_num  PRI_jet_leading_pt  \\\n",
              "0               3.064      41.928  ...            2              67.435   \n",
              "1               3.473       2.078  ...            1              46.226   \n",
              "2               3.148       9.336  ...            1              44.251   \n",
              "3               3.310       0.414  ...            0            -999.000   \n",
              "4               3.891      16.405  ...            0            -999.000   \n",
              "\n",
              "   PRI_jet_leading_eta  PRI_jet_leading_phi  PRI_jet_subleading_pt  \\\n",
              "0                2.150                0.444                 46.062   \n",
              "1                0.725                1.158               -999.000   \n",
              "2                2.053               -2.028               -999.000   \n",
              "3             -999.000             -999.000               -999.000   \n",
              "4             -999.000             -999.000               -999.000   \n",
              "\n",
              "   PRI_jet_subleading_eta  PRI_jet_subleading_phi  PRI_jet_all_pt    Weight  \\\n",
              "0                    1.24                  -2.475         113.497  0.002653   \n",
              "1                 -999.00                -999.000          46.226  2.233584   \n",
              "2                 -999.00                -999.000          44.251  2.347389   \n",
              "3                 -999.00                -999.000          -0.000  5.446378   \n",
              "4                 -999.00                -999.000           0.000  6.245333   \n",
              "\n",
              "   Label  \n",
              "0      s  \n",
              "1      b  \n",
              "2      b  \n",
              "3      b  \n",
              "4      b  \n",
              "\n",
              "[5 rows x 33 columns]"
            ],
            "text/html": [
              "\n",
              "  <div id=\"df-d8fb0c98-af98-4d1f-aa03-8dbc29711b82\">\n",
              "    <div class=\"colab-df-container\">\n",
              "      <div>\n",
              "<style scoped>\n",
              "    .dataframe tbody tr th:only-of-type {\n",
              "        vertical-align: middle;\n",
              "    }\n",
              "\n",
              "    .dataframe tbody tr th {\n",
              "        vertical-align: top;\n",
              "    }\n",
              "\n",
              "    .dataframe thead th {\n",
              "        text-align: right;\n",
              "    }\n",
              "</style>\n",
              "<table border=\"1\" class=\"dataframe\">\n",
              "  <thead>\n",
              "    <tr style=\"text-align: right;\">\n",
              "      <th></th>\n",
              "      <th>EventId</th>\n",
              "      <th>DER_mass_MMC</th>\n",
              "      <th>DER_mass_transverse_met_lep</th>\n",
              "      <th>DER_mass_vis</th>\n",
              "      <th>DER_pt_h</th>\n",
              "      <th>DER_deltaeta_jet_jet</th>\n",
              "      <th>DER_mass_jet_jet</th>\n",
              "      <th>DER_prodeta_jet_jet</th>\n",
              "      <th>DER_deltar_tau_lep</th>\n",
              "      <th>DER_pt_tot</th>\n",
              "      <th>...</th>\n",
              "      <th>PRI_jet_num</th>\n",
              "      <th>PRI_jet_leading_pt</th>\n",
              "      <th>PRI_jet_leading_eta</th>\n",
              "      <th>PRI_jet_leading_phi</th>\n",
              "      <th>PRI_jet_subleading_pt</th>\n",
              "      <th>PRI_jet_subleading_eta</th>\n",
              "      <th>PRI_jet_subleading_phi</th>\n",
              "      <th>PRI_jet_all_pt</th>\n",
              "      <th>Weight</th>\n",
              "      <th>Label</th>\n",
              "    </tr>\n",
              "  </thead>\n",
              "  <tbody>\n",
              "    <tr>\n",
              "      <th>0</th>\n",
              "      <td>100000</td>\n",
              "      <td>138.470</td>\n",
              "      <td>51.655</td>\n",
              "      <td>97.827</td>\n",
              "      <td>27.980</td>\n",
              "      <td>0.91</td>\n",
              "      <td>124.711</td>\n",
              "      <td>2.666</td>\n",
              "      <td>3.064</td>\n",
              "      <td>41.928</td>\n",
              "      <td>...</td>\n",
              "      <td>2</td>\n",
              "      <td>67.435</td>\n",
              "      <td>2.150</td>\n",
              "      <td>0.444</td>\n",
              "      <td>46.062</td>\n",
              "      <td>1.24</td>\n",
              "      <td>-2.475</td>\n",
              "      <td>113.497</td>\n",
              "      <td>0.002653</td>\n",
              "      <td>s</td>\n",
              "    </tr>\n",
              "    <tr>\n",
              "      <th>1</th>\n",
              "      <td>100001</td>\n",
              "      <td>160.937</td>\n",
              "      <td>68.768</td>\n",
              "      <td>103.235</td>\n",
              "      <td>48.146</td>\n",
              "      <td>-999.00</td>\n",
              "      <td>-999.000</td>\n",
              "      <td>-999.000</td>\n",
              "      <td>3.473</td>\n",
              "      <td>2.078</td>\n",
              "      <td>...</td>\n",
              "      <td>1</td>\n",
              "      <td>46.226</td>\n",
              "      <td>0.725</td>\n",
              "      <td>1.158</td>\n",
              "      <td>-999.000</td>\n",
              "      <td>-999.00</td>\n",
              "      <td>-999.000</td>\n",
              "      <td>46.226</td>\n",
              "      <td>2.233584</td>\n",
              "      <td>b</td>\n",
              "    </tr>\n",
              "    <tr>\n",
              "      <th>2</th>\n",
              "      <td>100002</td>\n",
              "      <td>-999.000</td>\n",
              "      <td>162.172</td>\n",
              "      <td>125.953</td>\n",
              "      <td>35.635</td>\n",
              "      <td>-999.00</td>\n",
              "      <td>-999.000</td>\n",
              "      <td>-999.000</td>\n",
              "      <td>3.148</td>\n",
              "      <td>9.336</td>\n",
              "      <td>...</td>\n",
              "      <td>1</td>\n",
              "      <td>44.251</td>\n",
              "      <td>2.053</td>\n",
              "      <td>-2.028</td>\n",
              "      <td>-999.000</td>\n",
              "      <td>-999.00</td>\n",
              "      <td>-999.000</td>\n",
              "      <td>44.251</td>\n",
              "      <td>2.347389</td>\n",
              "      <td>b</td>\n",
              "    </tr>\n",
              "    <tr>\n",
              "      <th>3</th>\n",
              "      <td>100003</td>\n",
              "      <td>143.905</td>\n",
              "      <td>81.417</td>\n",
              "      <td>80.943</td>\n",
              "      <td>0.414</td>\n",
              "      <td>-999.00</td>\n",
              "      <td>-999.000</td>\n",
              "      <td>-999.000</td>\n",
              "      <td>3.310</td>\n",
              "      <td>0.414</td>\n",
              "      <td>...</td>\n",
              "      <td>0</td>\n",
              "      <td>-999.000</td>\n",
              "      <td>-999.000</td>\n",
              "      <td>-999.000</td>\n",
              "      <td>-999.000</td>\n",
              "      <td>-999.00</td>\n",
              "      <td>-999.000</td>\n",
              "      <td>-0.000</td>\n",
              "      <td>5.446378</td>\n",
              "      <td>b</td>\n",
              "    </tr>\n",
              "    <tr>\n",
              "      <th>4</th>\n",
              "      <td>100004</td>\n",
              "      <td>175.864</td>\n",
              "      <td>16.915</td>\n",
              "      <td>134.805</td>\n",
              "      <td>16.405</td>\n",
              "      <td>-999.00</td>\n",
              "      <td>-999.000</td>\n",
              "      <td>-999.000</td>\n",
              "      <td>3.891</td>\n",
              "      <td>16.405</td>\n",
              "      <td>...</td>\n",
              "      <td>0</td>\n",
              "      <td>-999.000</td>\n",
              "      <td>-999.000</td>\n",
              "      <td>-999.000</td>\n",
              "      <td>-999.000</td>\n",
              "      <td>-999.00</td>\n",
              "      <td>-999.000</td>\n",
              "      <td>0.000</td>\n",
              "      <td>6.245333</td>\n",
              "      <td>b</td>\n",
              "    </tr>\n",
              "  </tbody>\n",
              "</table>\n",
              "<p>5 rows × 33 columns</p>\n",
              "</div>\n",
              "      <button class=\"colab-df-convert\" onclick=\"convertToInteractive('df-d8fb0c98-af98-4d1f-aa03-8dbc29711b82')\"\n",
              "              title=\"Convert this dataframe to an interactive table.\"\n",
              "              style=\"display:none;\">\n",
              "        \n",
              "  <svg xmlns=\"http://www.w3.org/2000/svg\" height=\"24px\"viewBox=\"0 0 24 24\"\n",
              "       width=\"24px\">\n",
              "    <path d=\"M0 0h24v24H0V0z\" fill=\"none\"/>\n",
              "    <path d=\"M18.56 5.44l.94 2.06.94-2.06 2.06-.94-2.06-.94-.94-2.06-.94 2.06-2.06.94zm-11 1L8.5 8.5l.94-2.06 2.06-.94-2.06-.94L8.5 2.5l-.94 2.06-2.06.94zm10 10l.94 2.06.94-2.06 2.06-.94-2.06-.94-.94-2.06-.94 2.06-2.06.94z\"/><path d=\"M17.41 7.96l-1.37-1.37c-.4-.4-.92-.59-1.43-.59-.52 0-1.04.2-1.43.59L10.3 9.45l-7.72 7.72c-.78.78-.78 2.05 0 2.83L4 21.41c.39.39.9.59 1.41.59.51 0 1.02-.2 1.41-.59l7.78-7.78 2.81-2.81c.8-.78.8-2.07 0-2.86zM5.41 20L4 18.59l7.72-7.72 1.47 1.35L5.41 20z\"/>\n",
              "  </svg>\n",
              "      </button>\n",
              "      \n",
              "  <style>\n",
              "    .colab-df-container {\n",
              "      display:flex;\n",
              "      flex-wrap:wrap;\n",
              "      gap: 12px;\n",
              "    }\n",
              "\n",
              "    .colab-df-convert {\n",
              "      background-color: #E8F0FE;\n",
              "      border: none;\n",
              "      border-radius: 50%;\n",
              "      cursor: pointer;\n",
              "      display: none;\n",
              "      fill: #1967D2;\n",
              "      height: 32px;\n",
              "      padding: 0 0 0 0;\n",
              "      width: 32px;\n",
              "    }\n",
              "\n",
              "    .colab-df-convert:hover {\n",
              "      background-color: #E2EBFA;\n",
              "      box-shadow: 0px 1px 2px rgba(60, 64, 67, 0.3), 0px 1px 3px 1px rgba(60, 64, 67, 0.15);\n",
              "      fill: #174EA6;\n",
              "    }\n",
              "\n",
              "    [theme=dark] .colab-df-convert {\n",
              "      background-color: #3B4455;\n",
              "      fill: #D2E3FC;\n",
              "    }\n",
              "\n",
              "    [theme=dark] .colab-df-convert:hover {\n",
              "      background-color: #434B5C;\n",
              "      box-shadow: 0px 1px 3px 1px rgba(0, 0, 0, 0.15);\n",
              "      filter: drop-shadow(0px 1px 2px rgba(0, 0, 0, 0.3));\n",
              "      fill: #FFFFFF;\n",
              "    }\n",
              "  </style>\n",
              "\n",
              "      <script>\n",
              "        const buttonEl =\n",
              "          document.querySelector('#df-d8fb0c98-af98-4d1f-aa03-8dbc29711b82 button.colab-df-convert');\n",
              "        buttonEl.style.display =\n",
              "          google.colab.kernel.accessAllowed ? 'block' : 'none';\n",
              "\n",
              "        async function convertToInteractive(key) {\n",
              "          const element = document.querySelector('#df-d8fb0c98-af98-4d1f-aa03-8dbc29711b82');\n",
              "          const dataTable =\n",
              "            await google.colab.kernel.invokeFunction('convertToInteractive',\n",
              "                                                     [key], {});\n",
              "          if (!dataTable) return;\n",
              "\n",
              "          const docLinkHtml = 'Like what you see? Visit the ' +\n",
              "            '<a target=\"_blank\" href=https://colab.research.google.com/notebooks/data_table.ipynb>data table notebook</a>'\n",
              "            + ' to learn more about interactive tables.';\n",
              "          element.innerHTML = '';\n",
              "          dataTable['output_type'] = 'display_data';\n",
              "          await google.colab.output.renderOutput(dataTable, element);\n",
              "          const docLink = document.createElement('div');\n",
              "          docLink.innerHTML = docLinkHtml;\n",
              "          element.appendChild(docLink);\n",
              "        }\n",
              "      </script>\n",
              "    </div>\n",
              "  </div>\n",
              "  "
            ]
          },
          "metadata": {},
          "execution_count": 55
        }
      ]
    },
    {
      "cell_type": "code",
      "source": [
        "train.info()"
      ],
      "metadata": {
        "colab": {
          "base_uri": "https://localhost:8080/"
        },
        "id": "QE59IbMo7osw",
        "outputId": "02e8796e-78e6-4dba-ce3c-ebb6dc675b9f"
      },
      "execution_count": null,
      "outputs": [
        {
          "output_type": "stream",
          "name": "stdout",
          "text": [
            "<class 'pandas.core.frame.DataFrame'>\n",
            "RangeIndex: 250000 entries, 0 to 249999\n",
            "Data columns (total 33 columns):\n",
            " #   Column                       Non-Null Count   Dtype  \n",
            "---  ------                       --------------   -----  \n",
            " 0   EventId                      250000 non-null  int64  \n",
            " 1   DER_mass_MMC                 250000 non-null  float64\n",
            " 2   DER_mass_transverse_met_lep  250000 non-null  float64\n",
            " 3   DER_mass_vis                 250000 non-null  float64\n",
            " 4   DER_pt_h                     250000 non-null  float64\n",
            " 5   DER_deltaeta_jet_jet         250000 non-null  float64\n",
            " 6   DER_mass_jet_jet             250000 non-null  float64\n",
            " 7   DER_prodeta_jet_jet          250000 non-null  float64\n",
            " 8   DER_deltar_tau_lep           250000 non-null  float64\n",
            " 9   DER_pt_tot                   250000 non-null  float64\n",
            " 10  DER_sum_pt                   250000 non-null  float64\n",
            " 11  DER_pt_ratio_lep_tau         250000 non-null  float64\n",
            " 12  DER_met_phi_centrality       250000 non-null  float64\n",
            " 13  DER_lep_eta_centrality       250000 non-null  float64\n",
            " 14  PRI_tau_pt                   250000 non-null  float64\n",
            " 15  PRI_tau_eta                  250000 non-null  float64\n",
            " 16  PRI_tau_phi                  250000 non-null  float64\n",
            " 17  PRI_lep_pt                   250000 non-null  float64\n",
            " 18  PRI_lep_eta                  250000 non-null  float64\n",
            " 19  PRI_lep_phi                  250000 non-null  float64\n",
            " 20  PRI_met                      250000 non-null  float64\n",
            " 21  PRI_met_phi                  250000 non-null  float64\n",
            " 22  PRI_met_sumet                250000 non-null  float64\n",
            " 23  PRI_jet_num                  250000 non-null  int64  \n",
            " 24  PRI_jet_leading_pt           250000 non-null  float64\n",
            " 25  PRI_jet_leading_eta          250000 non-null  float64\n",
            " 26  PRI_jet_leading_phi          250000 non-null  float64\n",
            " 27  PRI_jet_subleading_pt        250000 non-null  float64\n",
            " 28  PRI_jet_subleading_eta       250000 non-null  float64\n",
            " 29  PRI_jet_subleading_phi       250000 non-null  float64\n",
            " 30  PRI_jet_all_pt               250000 non-null  float64\n",
            " 31  Weight                       250000 non-null  float64\n",
            " 32  Label                        250000 non-null  object \n",
            "dtypes: float64(30), int64(2), object(1)\n",
            "memory usage: 62.9+ MB\n"
          ]
        }
      ]
    },
    {
      "cell_type": "markdown",
      "source": [
        "Weight ve Label colonunu çıkartıyoruz"
      ],
      "metadata": {
        "id": "lOtmcdLe75X7"
      }
    },
    {
      "cell_type": "code",
      "source": [
        "X_training = train.drop(['Weight','Label'], axis = \"columns\")"
      ],
      "metadata": {
        "id": "NDZNhYjTKWNE"
      },
      "execution_count": null,
      "outputs": []
    },
    {
      "cell_type": "markdown",
      "source": [
        "EventId sütununu 'X_training' veri kümesinin indeksi olarak ayarlıyoruz"
      ],
      "metadata": {
        "id": "_v3uuT7B79sV"
      }
    },
    {
      "cell_type": "code",
      "source": [
        "X_training.set_index(\"EventId\", inplace = True)"
      ],
      "metadata": {
        "id": "5JuiqMoHKW9y"
      },
      "execution_count": null,
      "outputs": []
    },
    {
      "cell_type": "markdown",
      "source": [
        "'LabelEncoder' sınıfı, 'train1' veri kümesindeki hedef değişkeni 'Label' sütununu sayısal olarak kodlayarak, makine öğrenimi modelinin eğitimi için kullanılabilecek şekilde yeni bir veri kümesi oluşturur."
      ],
      "metadata": {
        "id": "uM-1HW4l8AIM"
      }
    },
    {
      "cell_type": "code",
      "source": [
        "label_encoder = preprocessing.LabelEncoder()\n",
        "train1 = train['Label']"
      ],
      "metadata": {
        "id": "F2BbTaZVKZXy"
      },
      "execution_count": null,
      "outputs": []
    },
    {
      "cell_type": "markdown",
      "source": [
        "'LabelEncoder' sınıfının 'fit_transform' yöntemini kullanarak 'train1' veri kümesindeki etiket değerlerini sayısal olarak kodlar ve bu yeni kodlanmış etiketleri 'y_training' adlı değişkene atar."
      ],
      "metadata": {
        "id": "Uc6QCNJM8CiT"
      }
    },
    {
      "cell_type": "code",
      "source": [
        "y_training = label_encoder.fit_transform(train1)"
      ],
      "metadata": {
        "id": "VEKF_91KKa2i"
      },
      "execution_count": null,
      "outputs": []
    },
    {
      "cell_type": "markdown",
      "source": [
        "## Correlation matrix hesaplama"
      ],
      "metadata": {
        "id": "LJBeUut78I0_"
      }
    },
    {
      "cell_type": "markdown",
      "source": [
        "'corr' fonksiyonu ile 'X_training' veri kümesindeki tüm bağımsız değişkenler arasındaki Pearson korelasyon katsayılarını hesaplar ve sonuç olarak bir korelasyon matrisi oluşturur."
      ],
      "metadata": {
        "id": "bbK8sZz_8NSb"
      }
    },
    {
      "cell_type": "code",
      "source": [
        "corr_matrix = X_training.corr()"
      ],
      "metadata": {
        "id": "4cc37XehKbiE"
      },
      "execution_count": null,
      "outputs": []
    },
    {
      "cell_type": "markdown",
      "source": [
        "Korelasyon matrisindeki sütun sayısından 1 çıkararak bir döngü aralığı belirler.\n",
        "\n"
      ],
      "metadata": {
        "id": "IqgRpftq8Pno"
      }
    },
    {
      "cell_type": "code",
      "source": [
        "iters = range(len(corr_matrix.columns) - 1)"
      ],
      "metadata": {
        "id": "2k2Dm7nIKdX8"
      },
      "execution_count": null,
      "outputs": []
    },
    {
      "cell_type": "markdown",
      "source": [
        "Yüksek korelasyona sahip değişkenleri tespit etmek için kullanılır. Döngü, korelasyon matrisindeki her bir sütununun diğer sütunlarıyla karşılaştırılmasını sağlar. Eğer bir sütun ile diğer sütun arasındaki korelasyon katsayısı, belirli bir 'threshold' değerinden büyükse, o sütun 'drop_cols' listesine eklenir."
      ],
      "metadata": {
        "id": "6NCpCofM8O5T"
      }
    },
    {
      "cell_type": "code",
      "source": [
        "drop_cols = []"
      ],
      "metadata": {
        "id": "xiKLVQNXKfUL"
      },
      "execution_count": null,
      "outputs": []
    },
    {
      "cell_type": "markdown",
      "source": [
        "Belirli bir 'threshold' değerinin (0.9) belirlenmesiyle ilgilidir. Bu değer, yüksek korelasyona sahip değişkenlerin ne kadarının tespit edileceğini belirler."
      ],
      "metadata": {
        "id": "hZt2v_VI8coS"
      }
    },
    {
      "cell_type": "code",
      "source": [
        "threshold = 0.9"
      ],
      "metadata": {
        "id": "wFMtdRQwKiCL"
      },
      "execution_count": null,
      "outputs": []
    },
    {
      "cell_type": "markdown",
      "source": [
        "## Korelasyon matrisi üzerinde döngü yaparak korelasyonları karşılaştırma"
      ],
      "metadata": {
        "id": "hh7P0DhA8fyK"
      }
    },
    {
      "cell_type": "code",
      "source": [
        "for i in iters:\n",
        "  for j in range(i+1):\n",
        "    item = corr_matrix.iloc[j:(j+1), (i+1):(i+2)]\n",
        "    col = item.columns\n",
        "    row = item.index\n",
        "    val = abs(item.values)\n",
        "# Eğer korelasyon değeri, belirlenen eşik değerini aşarsa\n",
        "    if val >= threshold:\n",
        "      drop_cols.append(col.values[0])\n",
        "\n",
        "# Korelasyonlu sütunların her birinden bir tanesini çıkar\n",
        "drops = set(drop_cols)\n",
        "X_training_dropped = X_training.drop(columns=drops)\n",
        "\n",
        "print(f'Kaldırılan kolonlar : {drops}')"
      ],
      "metadata": {
        "colab": {
          "base_uri": "https://localhost:8080/"
        },
        "id": "u1Yl6bdOKjt7",
        "outputId": "cd8450d1-0415-4a4c-8e37-ac90301134e7"
      },
      "execution_count": null,
      "outputs": [
        {
          "output_type": "stream",
          "name": "stdout",
          "text": [
            "Kaldırılan kolonlar : {'PRI_jet_leading_eta', 'PRI_jet_subleading_eta', 'PRI_jet_subleading_phi', 'PRI_met_sumet', 'PRI_jet_subleading_pt', 'DER_mass_jet_jet', 'PRI_jet_leading_phi', 'DER_lep_eta_centrality', 'PRI_jet_all_pt', 'DER_prodeta_jet_jet'}\n"
          ]
        }
      ]
    },
    {
      "cell_type": "markdown",
      "source": [
        "Bu kod, \"X_training_dropped\" adlı bir veri kümesinin çarpıklık (skewness) ölçülerini hesaplayarak \"X_skew\" adlı yeni bir veri kümesi oluşturur. \"skewness\", bir değişkenin dağılımının simetrik olmama derecesini ifade eder.\n"
      ],
      "metadata": {
        "id": "9u0TaQRV8kZn"
      }
    },
    {
      "cell_type": "code",
      "source": [
        "X_skew = X_training_dropped.skew()"
      ],
      "metadata": {
        "id": "5m_xmIwSKlIb"
      },
      "execution_count": null,
      "outputs": []
    },
    {
      "cell_type": "markdown",
      "source": [
        "StandardScaler()\" sınıfı kullanılarak, veri kümesindeki özellikler ölçeklendirilir. \"X_training_dropped\" veri kümesindeki özellikler \"fit_transform()\" yöntemi ile ölçeklendirilerek, ölçeklendirilmiş özellikler \"robust_df\" adlı yeni bir veri kümesinde saklanır. Daha sonra \"pd.DataFrame()\" fonksiyonu kullanılarak, ölçeklendirilmiş özelliklerin bulunduğu \"robust_df\" veri kümesi, \"X_training_dropped\" veri kümesinin sütun isimleri ile aynı isimlere sahip sütunlara sahip olarak yeniden düzenlenir. Bu işlem sonucunda, veri kümesindeki tüm özelliklerin aynı ölçeklendirme yöntemi ile ölçeklendirilmesi sağlanır."
      ],
      "metadata": {
        "id": "EFfyTHBd8nPa"
      }
    },
    {
      "cell_type": "code",
      "source": [
        "scaler = StandardScaler()\n",
        "robust_df = scaler.fit_transform(X_training_dropped)\n",
        "robust_df = pd.DataFrame(robust_df, columns = X_training_dropped.columns)"
      ],
      "metadata": {
        "id": "vufQ7Fm4KpPl"
      },
      "execution_count": null,
      "outputs": []
    },
    {
      "cell_type": "code",
      "source": [
        "X_training_skewed = robust_df"
      ],
      "metadata": {
        "id": "gphi6gdfKsFe"
      },
      "execution_count": null,
      "outputs": []
    },
    {
      "cell_type": "markdown",
      "source": [
        "\"x_temp\" ve \"y_temp\" değişkenleri \"X_training_skewed\" ve \"y_training\" değişkenlerinin değerlerini alır. Daha sonra, \"replace()\" yöntemi kullanılarak \"x_temp\" değişkenindeki \"np.inf\", \"-np.inf\" ve \"np.nan\" değerleri sıfıra dönüştürülür. Bu işlem, veri kümesindeki sonsuz ve eksik değerlerin çıkarılması için yapılır ve sonuç olarak, temizlenmiş bir veri kümesi elde edilir.\n",
        "\n"
      ],
      "metadata": {
        "id": "IHDO7OZD8qsJ"
      }
    },
    {
      "cell_type": "code",
      "source": [
        "x_temp = X_training_skewed\n",
        "y_temp = y_training\n",
        "x_temp = x_temp.replace((np.inf, -np.inf, np.nan), 0)"
      ],
      "metadata": {
        "id": "dcORit_UKt-r"
      },
      "execution_count": null,
      "outputs": []
    },
    {
      "cell_type": "markdown",
      "source": [
        "Öncelikle, \"SMOTE()\" sınıfı kullanarak veri kümesindeki azınlık sınıfının örneklerinin sayısını artırırız. Bu, azınlık sınıfındaki örnek sayısı az olan veri kümelerinde dengesizliği gidermek için kullanılan bir tekniktir. \"smt.fit_resample(x_temp,y_temp)\" işlemi ile bu işlem gerçekleştirilir ve sonuçlar \"X_temp_smooth\" ve \"y_temp_smooth\" değişkenlerinde saklanır."
      ],
      "metadata": {
        "id": "li37AYlY8wry"
      }
    },
    {
      "cell_type": "markdown",
      "source": [
        "Daha sonra, \"X_training_balanced\" ve \"y_training_balanced\" adlı yeni veri kümeleri, önceden oluşturulan \"X_temp_smooth\" ve \"y_temp_smooth\" veri kümelerinin sütun isimleri ile aynı isimlere sahip sütunlara sahip olarak oluşturulur. Bu adım, dengelenmiş veri kümesindeki tüm özelliklerin orijinal veri kümesindeki özelliklere sahip olmasını sağlar."
      ],
      "metadata": {
        "id": "fHNfuiBg8xYS"
      }
    },
    {
      "cell_type": "code",
      "source": [
        "smt = SMOTE()\n",
        "\n",
        "X_temp_smooth, y_temp_smooth = smt.fit_resample(x_temp,y_temp)\n",
        "\n",
        "X_training_balanced = pd.DataFrame(X_temp_smooth, columns=x_temp.columns)\n",
        "y_training_balanced = pd.DataFrame(y_temp_smooth, columns = ['Label'])"
      ],
      "metadata": {
        "id": "fKdpFm7qKvnc"
      },
      "execution_count": null,
      "outputs": []
    },
    {
      "cell_type": "markdown",
      "source": [
        "Accuracy Score, F1 Score, ROC AUC Score hesaplamak icin gerekli importlar"
      ],
      "metadata": {
        "id": "Njyjg3X_zaV-"
      }
    },
    {
      "cell_type": "code",
      "source": [
        "from sklearn.metrics import f1_score\n",
        "from sklearn.metrics import roc_auc_score\n",
        "from sklearn.metrics import roc_curve"
      ],
      "metadata": {
        "id": "TkucTXRwKzx4"
      },
      "execution_count": null,
      "outputs": []
    },
    {
      "cell_type": "markdown",
      "source": [
        "train test split yapabilmek icin  gerekli olan import\n"
      ],
      "metadata": {
        "id": "8gMQ43wRzuMZ"
      }
    },
    {
      "cell_type": "code",
      "source": [
        "from sklearn.model_selection import train_test_split"
      ],
      "metadata": {
        "id": "7ON33CXSzVbN"
      },
      "execution_count": null,
      "outputs": []
    },
    {
      "cell_type": "markdown",
      "source": [
        "Veri kümesi örneklerini eğitim ve doğrulama alt kümelerine bölmek için \"train_test_split()\" yöntemi kullanılır. Eğitim alt kümesi, veri kümesinin %80'ini ve doğrulama alt kümesi, veri kümesinin %20'sini oluşturur. \"LogisticRegression()\" sınıfı kullanılarak bir lojistik regresyon modeli oluşturulur ve \"fit()\" yöntemi kullanılarak eğitilir. Daha sonra, oluşturulan model, doğrulama alt kümesindeki özellikler kullanılarak tahminler yapmak için \"predict()\" yöntemi ile kullanılır ve bu tahminler \"y_pred\" değişkeninde saklanır.\n",
        "\n",
        "Doğrulama kümesi üzerinde modelin performansını değerlendirir. Daha sonra, doğruluk, F1 skoru ve ROC AUC puanı ölçümlerini hesaplar ve ekrana yazdırır."
      ],
      "metadata": {
        "id": "bnmbOgHf84T9"
      }
    },
    {
      "cell_type": "code",
      "source": [
        "X_train, X_test, y_train, y_test= train_test_split(X_training_balanced,\n",
        "                                                 y_training_balanced,\n",
        "                                                 train_size=0.8,\n",
        "                                                 random_state=0)"
      ],
      "metadata": {
        "id": "DiNfPcgrLDI4"
      },
      "execution_count": null,
      "outputs": []
    },
    {
      "cell_type": "markdown",
      "source": [
        "### LogisticRegression"
      ],
      "metadata": {
        "id": "UZkgV_Rez1zx"
      }
    },
    {
      "cell_type": "code",
      "source": [
        "from sklearn.linear_model import LogisticRegression"
      ],
      "metadata": {
        "id": "F2OUU3wALEww"
      },
      "execution_count": null,
      "outputs": []
    },
    {
      "cell_type": "code",
      "source": [
        "# Train\n",
        "logistic_regression = LogisticRegression()\n",
        "logistic_regression.fit(X_train, y_train)\n",
        "\n",
        "# Predict the target values for the test data\n",
        "y_prediction = logistic_regression.predict(X_test)"
      ],
      "metadata": {
        "id": "AtIp7EhjLGaQ"
      },
      "execution_count": null,
      "outputs": []
    },
    {
      "cell_type": "code",
      "source": [
        "log_acc=accuracy_score(y_test, y_prediction)\n",
        "log_f1=f1_score(y_test, y_prediction)\n",
        "log_roc_auc=roc_auc_score(y_test, y_prediction)\n",
        "print(f'''Logistic Regression Model Evaluation Metrics:\n",
        "- Accuracy: {(log_acc * 100):.2f}%\n",
        "- F1 Score: {(log_f1 * 100):.2f}%\n",
        "- ROC AUC Score: {(log_roc_auc * 100):.2f}%\n",
        "''')"
      ],
      "metadata": {
        "colab": {
          "base_uri": "https://localhost:8080/"
        },
        "id": "9CN_wResLH_N",
        "outputId": "66d28edf-7d3a-49ac-9dc3-cf795a2ddc20"
      },
      "execution_count": null,
      "outputs": [
        {
          "output_type": "stream",
          "name": "stdout",
          "text": [
            "Logistic Regression Model Evaluation Metrics:\n",
            "- Accuracy: 74.37%\n",
            "- F1 Score: 75.25%\n",
            "- ROC AUC Score: 74.37%\n",
            "\n"
          ]
        }
      ]
    },
    {
      "cell_type": "markdown",
      "source": [
        "### RandomForestClassifier"
      ],
      "metadata": {
        "id": "GWRzNY9dz9b7"
      }
    },
    {
      "cell_type": "code",
      "source": [
        "from sklearn.ensemble import RandomForestClassifier"
      ],
      "metadata": {
        "id": "H40nytl9LMaJ"
      },
      "execution_count": null,
      "outputs": []
    },
    {
      "cell_type": "code",
      "source": [
        "# Train\n",
        "random_forest = RandomForestClassifier()\n",
        "random_forest.fit(X_train, y_train)\n",
        "\n",
        "# Predict the target values for the test data\n",
        "y_prediction_rf = random_forest.predict(X_test)"
      ],
      "metadata": {
        "id": "EbSAbHJiLN2c"
      },
      "execution_count": null,
      "outputs": []
    },
    {
      "cell_type": "code",
      "source": [
        "rfc_acc=accuracy_score(y_test, y_prediction_rf)\n",
        "rfc_f1=f1_score(y_test, y_prediction_rf)\n",
        "rfc_roc_auc=roc_auc_score(y_test, y_prediction_rf)\n",
        "print(f'''Random Forest Classifier Model Evaluation Metrics:\n",
        "- Accuracy: {(rfc_acc * 100):.2f}%\n",
        "- F1 Score: {(rfc_f1 * 100):.2f}%\n",
        "- ROC AUC Score: {(rfc_roc_auc * 100):.2f}%\n",
        "''')"
      ],
      "metadata": {
        "colab": {
          "base_uri": "https://localhost:8080/"
        },
        "id": "ih_yhRiKLPST",
        "outputId": "932e27d5-cb06-47cb-f963-eccbbbc239c3"
      },
      "execution_count": null,
      "outputs": [
        {
          "output_type": "stream",
          "name": "stdout",
          "text": [
            "Random Forest Classifier Model Evaluation Metrics:\n",
            "- Accuracy: 85.95%\n",
            "- F1 Score: 86.11%\n",
            "- ROC AUC Score: 85.95%\n",
            "\n"
          ]
        }
      ]
    },
    {
      "cell_type": "markdown",
      "source": [
        "### KNeighborsClassifier"
      ],
      "metadata": {
        "id": "1FU2ou9P0AFR"
      }
    },
    {
      "cell_type": "code",
      "source": [
        "from sklearn.neighbors import KNeighborsClassifier"
      ],
      "metadata": {
        "id": "G9z8EwgLPNAI"
      },
      "execution_count": null,
      "outputs": []
    },
    {
      "cell_type": "code",
      "source": [
        "test_score = []\n",
        "train_score = []\n",
        "\n",
        "for i in range(1, 5):\n",
        "    knn = KNeighborsClassifier(i)\n",
        "    knn.fit(X_train, y_train)\n",
        "    train_score.append(knn.score(X_train, y_train))\n",
        "    test_score.append(knn.score(X_test, y_test))\n",
        "\n",
        "# max scores\n",
        "max_train_score = max(train_score)\n",
        "train_score_ind = [i for i, v in enumerate(train_score) if v == max_train_score]\n",
        " \n",
        "max_test_score = max(test_score)\n",
        "test_score_ind = [i for i, v in enumerate(test_score) if v == max_test_score]\n",
        "\n",
        "\n",
        "print(f'Max Train Score : %{max_train_score * 100} - K : {list(map(lambda x: x+1, train_score_ind))}')\n",
        "print(f'Max Test Score : %{max_test_score * 100} - Best K : {list(map(lambda x: x+1, test_score_ind))}')\n",
        "\n",
        "# graph\n",
        "\n",
        "plt.figure(figsize=(12, 5))\n",
        "p = sns.lineplot(train_score, marker=\"*\", label=\"Train Score\")\n",
        "p = sns.lineplot(test_score, marker=\"o\", label=\"Test Score\")\n",
        "plt.show()"
      ],
      "metadata": {
        "colab": {
          "base_uri": "https://localhost:8080/",
          "height": 487
        },
        "id": "lAN5ejodPH-1",
        "outputId": "9ce58c73-1cd9-4e39-835c-0259a81ec85a"
      },
      "execution_count": null,
      "outputs": [
        {
          "output_type": "stream",
          "name": "stdout",
          "text": [
            "Max Train Score : %100.0 - K : [1]\n",
            "Max Test Score : %84.212127666048 - Best K : [1]\n"
          ]
        },
        {
          "output_type": "display_data",
          "data": {
            "text/plain": [
              "<Figure size 1200x500 with 1 Axes>"
            ],
            "image/png": "[encoded data removed]"
          },
          "metadata": {}
        }
      ]
    },
    {
      "cell_type": "code",
      "source": [
        "# Fit\n",
        "knn = KNeighborsClassifier(1)\n",
        "knn.fit(X_train, y_train)\n",
        "\n",
        "# prediction\n",
        "y_prediction_knn = knn.predict(X_test)"
      ],
      "metadata": {
        "id": "I9xUgPY5TnEn"
      },
      "execution_count": null,
      "outputs": []
    },
    {
      "cell_type": "code",
      "source": [
        "knn_acc=accuracy_score(y_test, y_prediction_knn)\n",
        "knn_f1=f1_score(y_test, y_prediction_knn)\n",
        "knn_roc_auc=roc_auc_score(y_test, y_prediction_knn)\n",
        "print(f'''K Neighbors Classifier Model Evaluation Metrics:\n",
        "- Accuracy: {(knn_acc * 100):.2f}%\n",
        "- F1 Score: {(knn_f1 * 100):.2f}%\n",
        "- ROC AUC Score: {(knn_roc_auc * 100):.2f}%\n",
        "''')"
      ],
      "metadata": {
        "colab": {
          "base_uri": "https://localhost:8080/"
        },
        "id": "79sngZfZTowo",
        "outputId": "24d04411-f280-4325-a9ce-455d7ff1e751"
      },
      "execution_count": null,
      "outputs": [
        {
          "output_type": "stream",
          "name": "stdout",
          "text": [
            "K Neighbors Classifier Model Evaluation Metrics:\n",
            "- Accuracy: 84.21%\n",
            "- F1 Score: 85.42%\n",
            "- ROC AUC Score: 84.22%\n",
            "\n"
          ]
        }
      ]
    },
    {
      "cell_type": "markdown",
      "source": [
        "### GaussianNB"
      ],
      "metadata": {
        "id": "XJiO1qgr0Xek"
      }
    },
    {
      "cell_type": "code",
      "source": [
        "from sklearn.naive_bayes import GaussianNB"
      ],
      "metadata": {
        "id": "p-5-KGHQ0P1p"
      },
      "execution_count": null,
      "outputs": []
    },
    {
      "cell_type": "code",
      "source": [
        "# Train the Random Forest classifier\n",
        "gnb = GaussianNB()\n",
        "gnb.fit(X_train, y_train)\n",
        "\n",
        "# Predict the target values for the test data\n",
        "y_prediction_gnb = gnb.predict(X_test)"
      ],
      "metadata": {
        "id": "gKFel1e00Y9U"
      },
      "execution_count": null,
      "outputs": []
    },
    {
      "cell_type": "code",
      "source": [
        "gnb_acc=accuracy_score(y_test, y_prediction_gnb)\n",
        "gnb_f1=f1_score(y_test, y_prediction_gnb)\n",
        "gnb_roc_auc=roc_auc_score(y_test, y_prediction_gnb)\n",
        "print(f'''GaussianNB Model Evaluation Metrics:\n",
        "- Accuracy: {(gnb_acc * 100):.2f}%\n",
        "- F1 Score: {(gnb_f1 * 100):.2f}%\n",
        "- ROC AUC Score: {(gnb_roc_auc * 100):.2f}%\n",
        "''')"
      ],
      "metadata": {
        "colab": {
          "base_uri": "https://localhost:8080/"
        },
        "id": "EDiZ_vZa0bTA",
        "outputId": "8e064c45-8b95-4a39-b656-a5bae8ea0e52"
      },
      "execution_count": null,
      "outputs": [
        {
          "output_type": "stream",
          "name": "stdout",
          "text": [
            "GaussianNB Model Evaluation Metrics:\n",
            "- Accuracy: 72.32%\n",
            "- F1 Score: 74.36%\n",
            "- ROC AUC Score: 72.33%\n",
            "\n"
          ]
        }
      ]
    },
    {
      "cell_type": "markdown",
      "source": [
        "## Roc Eğrileri Grafiği"
      ],
      "metadata": {
        "id": "QrDX-lUM0C2l"
      }
    },
    {
      "cell_type": "code",
      "source": [
        "# lojistik regresyon ROC eğrisi\n",
        "y_probs_log = logistic_regression.predict_proba(X_test)[:,1]\n",
        "FPR_log, TPR_log, _ = roc_curve(y_test, y_probs_log)\n",
        "\n",
        "# rastgele orman ROC eğrisi\n",
        "y_probs_rf = random_forest.predict_proba(X_test)[:,1]\n",
        "FPR_rf, TPR_rf, _ = roc_curve(y_test, y_probs_rf)\n",
        "\n",
        "# KNN ROC eğrisi\n",
        "y_probs_knn = knn.predict_proba(X_test)[:,1]\n",
        "FPR_knn, TPR_knn, _ = roc_curve(y_test, y_probs_knn)\n",
        "\n",
        "# KNN ROC eğrisi\n",
        "y_probs_gnb = gnb.predict_proba(X_test)[:,1]\n",
        "FPR_gnb, TPR_gnb, _ = roc_curve(y_test, y_probs_gnb)\n",
        "\n",
        "# tek bir grafikte üç ROC eğrisi çizimi\n",
        "fig, ax = plt.subplots(figsize = (8,6))\n",
        "plt.plot(FPR_log, TPR_log, label='Lojistik Regresyon')\n",
        "plt.plot(FPR_rf, TPR_rf, label='Random Forest')\n",
        "plt.plot(FPR_knn, TPR_knn, label='KNN')\n",
        "plt.plot(FPR_gnb, TPR_gnb, label='GNB')\n",
        "plt.plot([0,1], [0,1], '--')\n",
        "plt.xlabel('Yanlış Pozitif Oran')\n",
        "plt.ylabel('Doğru Pozitif Oran')\n",
        "plt.title('ROC Eğrileri')\n",
        "plt.legend()\n",
        "plt.show()"
      ],
      "metadata": {
        "colab": {
          "base_uri": "https://localhost:8080/",
          "height": 573
        },
        "id": "3QBaWj26tVnJ",
        "outputId": "c8a8c150-17c9-47a8-8a96-e223f347d345"
      },
      "execution_count": null,
      "outputs": [
        {
          "output_type": "display_data",
          "data": {
            "text/plain": [
              "<Figure size 800x600 with 1 Axes>"
            ],
            "image/png": "[encoded data removed]"
          },
          "metadata": {}
        }
      ]
    }
  ]
}