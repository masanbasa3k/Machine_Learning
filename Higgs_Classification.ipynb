{
  "nbformat": 4,
  "nbformat_minor": 0,
  "metadata": {
    "colab": {
      "provenance": []
    },
    "kernelspec": {
      "name": "python3",
      "display_name": "Python 3"
    },
    "language_info": {
      "name": "python"
    }
  },
  "cells": [
    {
      "cell_type": "markdown",
      "source": [
        "Ornek aldigim site:\n",
        "https://root.cern/doc/master/TMVA__Higgs__Classification_8py.html\n",
        "\n",
        "Data: http://root.cern.ch/files/Higgs_data.root"
      ],
      "metadata": {
        "id": "cIV6gfmBbyLp"
      }
    },
    {
      "cell_type": "code",
      "execution_count": 2,
      "metadata": {
        "colab": {
          "base_uri": "https://localhost:8080/"
        },
        "id": "zlpLq9hTh2Un",
        "outputId": "d990b5c8-c4fa-4916-9c14-ac7395d7474c"
      },
      "outputs": [
        {
          "output_type": "stream",
          "name": "stdout",
          "text": [
            "Looking in indexes: https://pypi.org/simple, https://us-python.pkg.dev/colab-wheels/public/simple/\n",
            "Collecting uproot\n",
            "  Downloading uproot-5.0.7-py3-none-any.whl (331 kB)\n",
            "\u001b[2K     \u001b[90m━━━━━━━━━━━━━━━━━━━━━━━━━━━━━━━━━━━━━━━\u001b[0m \u001b[32m331.4/331.4 kB\u001b[0m \u001b[31m6.4 MB/s\u001b[0m eta \u001b[36m0:00:00\u001b[0m\n",
            "\u001b[?25hCollecting awkward>=2.0.0 (from uproot)\n",
            "  Downloading awkward-2.2.1-py3-none-any.whl (612 kB)\n",
            "\u001b[2K     \u001b[90m━━━━━━━━━━━━━━━━━━━━━━━━━━━━━━━━━━━━━━\u001b[0m \u001b[32m612.7/612.7 kB\u001b[0m \u001b[31m21.0 MB/s\u001b[0m eta \u001b[36m0:00:00\u001b[0m\n",
            "\u001b[?25hRequirement already satisfied: numpy in /usr/local/lib/python3.10/dist-packages (from uproot) (1.22.4)\n",
            "Requirement already satisfied: packaging in /usr/local/lib/python3.10/dist-packages (from uproot) (23.1)\n",
            "Collecting awkward-cpp==15 (from awkward>=2.0.0->uproot)\n",
            "  Downloading awkward_cpp-15-cp310-cp310-manylinux_2_17_x86_64.manylinux2014_x86_64.whl (1.1 MB)\n",
            "\u001b[2K     \u001b[90m━━━━━━━━━━━━━━━━━━━━━━━━━━━━━━━━━━━━━━━━\u001b[0m \u001b[32m1.1/1.1 MB\u001b[0m \u001b[31m48.3 MB/s\u001b[0m eta \u001b[36m0:00:00\u001b[0m\n",
            "\u001b[?25hRequirement already satisfied: typing-extensions>=4.1.0 in /usr/local/lib/python3.10/dist-packages (from awkward>=2.0.0->uproot) (4.5.0)\n",
            "Installing collected packages: awkward-cpp, awkward, uproot\n",
            "Successfully installed awkward-2.2.1 awkward-cpp-15 uproot-5.0.7\n"
          ]
        }
      ],
      "source": [
        "!pip install uproot"
      ]
    },
    {
      "cell_type": "code",
      "source": [
        "import uproot\n",
        "\n",
        "import pandas as pd\n",
        "import numpy as np\n",
        "import seaborn as sns\n",
        "import matplotlib.pyplot as plt\n",
        "\n",
        "from sklearn.metrics import f1_score\n",
        "from sklearn.metrics import roc_auc_score\n",
        "from sklearn.metrics import roc_curve\n",
        "from sklearn.metrics import accuracy_score\n",
        "from sklearn.metrics import auc\n",
        "\n",
        "\n",
        "from sklearn.model_selection import train_test_split\n",
        "\n",
        "from sklearn.linear_model import LogisticRegression\n",
        "from sklearn.ensemble import RandomForestClassifier\n",
        "from sklearn.neighbors import KNeighborsClassifier\n",
        "from sklearn.naive_bayes import GaussianNB\n"
      ],
      "metadata": {
        "id": "h2-E5HVViiDp"
      },
      "execution_count": 111,
      "outputs": []
    },
    {
      "cell_type": "code",
      "source": [
        "ilkrootdosyasi = '/content/drive/MyDrive/bitirmeProjesi/FCCeh_Kut01_Kct01.root'\n",
        "ikincirootdosyasi = '/content/drive/MyDrive/bitirmeProjesi/SM_FCC_eh.root'\n",
        "ucuncurootdosyasi = '/content/Higgs_data.root'"
      ],
      "metadata": {
        "id": "HzmtPdPCh3VW"
      },
      "execution_count": 4,
      "outputs": []
    },
    {
      "cell_type": "code",
      "source": [
        "file = uproot.open(ucuncurootdosyasi)"
      ],
      "metadata": {
        "id": "n6k7ueWOiaz7"
      },
      "execution_count": 5,
      "outputs": []
    },
    {
      "cell_type": "code",
      "source": [
        "file.keys()"
      ],
      "metadata": {
        "colab": {
          "base_uri": "https://localhost:8080/"
        },
        "id": "pQERSBE9ilMP",
        "outputId": "d5b5c56b-5bce-4838-9d93-f35889f702bc"
      },
      "execution_count": 6,
      "outputs": [
        {
          "output_type": "execute_result",
          "data": {
            "text/plain": [
              "['sig_tree;1', 'bkg_tree;1']"
            ]
          },
          "metadata": {},
          "execution_count": 6
        }
      ]
    },
    {
      "cell_type": "code",
      "source": [
        "sig_tree = file['sig_tree;1']\n",
        "bkg_tree = file['bkg_tree;1']"
      ],
      "metadata": {
        "id": "w_I9-dH4jGnF"
      },
      "execution_count": 7,
      "outputs": []
    },
    {
      "cell_type": "code",
      "source": [
        "sig_tree.keys()"
      ],
      "metadata": {
        "colab": {
          "base_uri": "https://localhost:8080/"
        },
        "id": "uBbk7VZEjRP_",
        "outputId": "dd5f5ab6-eaba-417e-a436-a67ec60638e4"
      },
      "execution_count": 8,
      "outputs": [
        {
          "output_type": "execute_result",
          "data": {
            "text/plain": [
              "['Type',\n",
              " 'lepton_pT',\n",
              " 'lepton_eta',\n",
              " 'lepton_phi',\n",
              " 'missing_energy_magnitude',\n",
              " 'missing_energy_phi',\n",
              " 'jet1_pt',\n",
              " 'jet1_eta',\n",
              " 'jet1_phi',\n",
              " 'jet1_b-tag',\n",
              " 'jet2_pt',\n",
              " 'jet2_eta',\n",
              " 'jet2_phi',\n",
              " 'jet2_b-tag',\n",
              " 'jet3_pt',\n",
              " 'jet3_eta',\n",
              " 'jet3_phi',\n",
              " 'jet3_b-tag',\n",
              " 'jet4_pt',\n",
              " 'jet4_eta',\n",
              " 'jet4_phi',\n",
              " 'jet4_b-tag',\n",
              " 'm_jj',\n",
              " 'm_jjj',\n",
              " 'm_lv',\n",
              " 'm_jlv',\n",
              " 'm_bb',\n",
              " 'm_wbb',\n",
              " 'm_wwbb']"
            ]
          },
          "metadata": {},
          "execution_count": 8
        }
      ]
    },
    {
      "cell_type": "code",
      "source": [
        "len(sig_tree.keys())"
      ],
      "metadata": {
        "colab": {
          "base_uri": "https://localhost:8080/"
        },
        "id": "PC6NVQ80jVPS",
        "outputId": "f388e2b2-5217-4a87-ebb3-e120f05ce6c4"
      },
      "execution_count": 9,
      "outputs": [
        {
          "output_type": "execute_result",
          "data": {
            "text/plain": [
              "29"
            ]
          },
          "metadata": {},
          "execution_count": 9
        }
      ]
    },
    {
      "cell_type": "code",
      "source": [
        "sig_tree.arrays()"
      ],
      "metadata": {
        "colab": {
          "base_uri": "https://localhost:8080/",
          "height": 920
        },
        "id": "RC9dL_zyxMaT",
        "outputId": "9d78c4f4-e4e4-4416-d679-e213dba5adf6"
      },
      "execution_count": 10,
      "outputs": [
        {
          "output_type": "execute_result",
          "data": {
            "text/html": [
              "<pre>[{Type: 1, lepton_pT: 0.869, lepton_eta: -0.635, lepton_phi: 0.226, ...},\n",
              " {Type: 1, lepton_pT: 0.908, lepton_eta: 0.329, lepton_phi: 0.359, ...},\n",
              " {Type: 1, lepton_pT: 0.799, lepton_eta: 1.47, lepton_phi: -1.64, ...},\n",
              " {Type: 1, lepton_pT: 1.11, lepton_eta: 0.321, lepton_phi: 1.52, ...},\n",
              " {Type: 1, lepton_pT: 0.409, lepton_eta: -1.88, lepton_phi: -1.03, ...},\n",
              " {Type: 1, lepton_pT: 0.934, lepton_eta: 0.629, lepton_phi: 0.528, ...},\n",
              " {Type: 1, lepton_pT: 1.41, lepton_eta: 0.537, lepton_phi: 0.69, ...},\n",
              " {Type: 1, lepton_pT: 1.18, lepton_eta: 0.104, lepton_phi: 1.4, ...},\n",
              " {Type: 1, lepton_pT: 0.946, lepton_eta: 1.11, lepton_phi: 1.22, ...},\n",
              " {Type: 1, lepton_pT: 1.38, lepton_eta: 0.117, lepton_phi: -1.18, ...},\n",
              " ...,\n",
              " {Type: 1, lepton_pT: 0.744, lepton_eta: -0.895, lepton_phi: -0.705, ...},\n",
              " {Type: 1, lepton_pT: 0.673, lepton_eta: 0.0311, lepton_phi: -1.48, ...},\n",
              " {Type: 1, lepton_pT: 1.4, lepton_eta: 0.11, lepton_phi: 1.44, ...},\n",
              " {Type: 1, lepton_pT: 1.22, lepton_eta: -1.11, lepton_phi: -0.133, ...},\n",
              " {Type: 1, lepton_pT: 0.677, lepton_eta: -0.838, lepton_phi: -0.491, ...},\n",
              " {Type: 1, lepton_pT: 0.742, lepton_eta: -0.38, lepton_phi: 0.162, ...},\n",
              " {Type: 1, lepton_pT: 0.857, lepton_eta: -1.42, lepton_phi: -0.485, ...},\n",
              " {Type: 1, lepton_pT: 0.857, lepton_eta: 0.611, lepton_phi: -0.193, ...},\n",
              " {Type: 1, lepton_pT: 1.29, lepton_eta: -0.146, lepton_phi: -1.55, ...}]\n",
              "--------------------------------------------------------------------------\n",
              "type: 10000 * {\n",
              "    Type: float32,\n",
              "    lepton_pT: float32,\n",
              "    lepton_eta: float32,\n",
              "    lepton_phi: float32,\n",
              "    missing_energy_magnitude: float32,\n",
              "    missing_energy_phi: float32,\n",
              "    jet1_pt: float32,\n",
              "    jet1_eta: float32,\n",
              "    jet1_phi: float32,\n",
              "    &quot;jet1_b-tag&quot;: float32,\n",
              "    jet2_pt: float32,\n",
              "    jet2_eta: float32,\n",
              "    jet2_phi: float32,\n",
              "    &quot;jet2_b-tag&quot;: float32,\n",
              "    jet3_pt: float32,\n",
              "    jet3_eta: float32,\n",
              "    jet3_phi: float32,\n",
              "    &quot;jet3_b-tag&quot;: float32,\n",
              "    jet4_pt: float32,\n",
              "    jet4_eta: float32,\n",
              "    jet4_phi: float32,\n",
              "    &quot;jet4_b-tag&quot;: float32,\n",
              "    m_jj: float32,\n",
              "    m_jjj: float32,\n",
              "    m_lv: float32,\n",
              "    m_jlv: float32,\n",
              "    m_bb: float32,\n",
              "    m_wbb: float32,\n",
              "    m_wwbb: float32\n",
              "}</pre>"
            ],
            "text/plain": [
              "<Array [{Type: 1, lepton_pT: 0.869, ...}, ...] type='10000 * {Type: float32...'>"
            ]
          },
          "metadata": {},
          "execution_count": 10
        }
      ]
    },
    {
      "cell_type": "markdown",
      "source": [
        "Type: Veri noktasının türünü belirten değişkenin türü.\n",
        "\n",
        "lepton_pT: Leptonun transverse momentum (yatay momentum) değeri (float32).\n",
        "\n",
        "lepton_eta: Leptonun pseudorapidity (hızlanma) değeri (float32).\n",
        "\n",
        "lepton_phi: Leptonun açısal phi değeri (float32).\n",
        "\n",
        "missing_energy_magnitude: Eksik enerjinin büyüklük değeri (float32).\n",
        "\n",
        "missing_energy_phi: Eksik enerjinin açısal phi değeri (float32).\n",
        "\n",
        "jet1_pt: İlk jetin transverse momentum değeri (float32).\n",
        "\n",
        "jet1_eta: İlk jetin pseudorapidity değeri (float32).\n",
        "\n",
        "jet1_phi: İlk jetin açısal phi değeri (float32).\n",
        "\n",
        "\"jet1_b-tag\": İlk jetin b-etiketi değeri (float32).\n",
        "\n",
        "jet2_pt: İkinci jetin transverse momentum değeri (float32).\n",
        "\n",
        "jet2_eta: İkinci jetin pseudorapidity değeri (float32).\n",
        "\n",
        "jet2_phi: İkinci jetin açısal phi değeri (float32).\n",
        "\n",
        "\"jet2_b-tag\": İkinci jetin b-etiketi değeri (float32).\n",
        "\n",
        "jet3_pt: Üçüncü jetin transverse momentum değeri (float32).\n",
        "\n",
        "jet3_eta: Üçüncü jetin pseudorapidity değeri (float32).\n",
        "\n",
        "jet3_phi: Üçüncü jetin açısal phi değeri (float32).\n",
        "\n",
        "\"jet3_b-tag\": Üçüncü jetin b-etiketi değeri (float32).\n",
        "\n",
        "jet4_pt: Dördüncü jetin transverse momentum değeri (float32).\n",
        "\n",
        "jet4_eta: Dördüncü jetin pseudorapidity değeri (float32).\n",
        "\n",
        "jet4_phi: Dördüncü jetin açısal phi değeri (float32).\n",
        "\n",
        "\"jet4_b-tag\": Dördüncü jetin b-etiketi değeri (float32).\n",
        "\n",
        "m_jj: İki jetin invariant mass (değişmez kütle) değeri (float32).\n",
        "\n",
        "m_jjj: Üç jetin invariant mass (değişmez kütle) değeri (float32).\n",
        "\n",
        "m_lv: Lepton ve eksik enerjinin invariant mass (değişmez kütle) değeri (float32).\n",
        "\n",
        "m_jlv: Lepton, jet ve eksik enerjinin invariant mass (değişmez kütle) değeri (float32).\n",
        "\n",
        "m_bb: İki b-etiketli jetin invariant mass (değişmez kütle) değeri (float32).\n",
        "\n",
        "m_wbb: Lepton, iki b-etiketli jet ve eksik enerjinin invariant mass (değişmez kütle) değeri (float32).\n",
        "\n",
        "m_wwbb: İki W bozonu, iki b-etiketli jet ve eksik enerjinin invariant mass (değişmez kütle) değeri (float32).\n"
      ],
      "metadata": {
        "id": "K_yc3Ig605F7"
      }
    },
    {
      "cell_type": "code",
      "source": [
        "sig_tree_branches = sig_tree.arrays()\n",
        "bkg_tree_branches = bkg_tree.arrays()"
      ],
      "metadata": {
        "id": "BO9vVzLtjmdY"
      },
      "execution_count": 11,
      "outputs": []
    },
    {
      "cell_type": "code",
      "source": [
        "sig_tree_branches"
      ],
      "metadata": {
        "colab": {
          "base_uri": "https://localhost:8080/",
          "height": 920
        },
        "id": "WrbPuNSmzTsA",
        "outputId": "4c7e907f-bb31-4550-dcf1-a4c48d9ed7fd"
      },
      "execution_count": 12,
      "outputs": [
        {
          "output_type": "execute_result",
          "data": {
            "text/html": [
              "<pre>[{Type: 1, lepton_pT: 0.869, lepton_eta: -0.635, lepton_phi: 0.226, ...},\n",
              " {Type: 1, lepton_pT: 0.908, lepton_eta: 0.329, lepton_phi: 0.359, ...},\n",
              " {Type: 1, lepton_pT: 0.799, lepton_eta: 1.47, lepton_phi: -1.64, ...},\n",
              " {Type: 1, lepton_pT: 1.11, lepton_eta: 0.321, lepton_phi: 1.52, ...},\n",
              " {Type: 1, lepton_pT: 0.409, lepton_eta: -1.88, lepton_phi: -1.03, ...},\n",
              " {Type: 1, lepton_pT: 0.934, lepton_eta: 0.629, lepton_phi: 0.528, ...},\n",
              " {Type: 1, lepton_pT: 1.41, lepton_eta: 0.537, lepton_phi: 0.69, ...},\n",
              " {Type: 1, lepton_pT: 1.18, lepton_eta: 0.104, lepton_phi: 1.4, ...},\n",
              " {Type: 1, lepton_pT: 0.946, lepton_eta: 1.11, lepton_phi: 1.22, ...},\n",
              " {Type: 1, lepton_pT: 1.38, lepton_eta: 0.117, lepton_phi: -1.18, ...},\n",
              " ...,\n",
              " {Type: 1, lepton_pT: 0.744, lepton_eta: -0.895, lepton_phi: -0.705, ...},\n",
              " {Type: 1, lepton_pT: 0.673, lepton_eta: 0.0311, lepton_phi: -1.48, ...},\n",
              " {Type: 1, lepton_pT: 1.4, lepton_eta: 0.11, lepton_phi: 1.44, ...},\n",
              " {Type: 1, lepton_pT: 1.22, lepton_eta: -1.11, lepton_phi: -0.133, ...},\n",
              " {Type: 1, lepton_pT: 0.677, lepton_eta: -0.838, lepton_phi: -0.491, ...},\n",
              " {Type: 1, lepton_pT: 0.742, lepton_eta: -0.38, lepton_phi: 0.162, ...},\n",
              " {Type: 1, lepton_pT: 0.857, lepton_eta: -1.42, lepton_phi: -0.485, ...},\n",
              " {Type: 1, lepton_pT: 0.857, lepton_eta: 0.611, lepton_phi: -0.193, ...},\n",
              " {Type: 1, lepton_pT: 1.29, lepton_eta: -0.146, lepton_phi: -1.55, ...}]\n",
              "--------------------------------------------------------------------------\n",
              "type: 10000 * {\n",
              "    Type: float32,\n",
              "    lepton_pT: float32,\n",
              "    lepton_eta: float32,\n",
              "    lepton_phi: float32,\n",
              "    missing_energy_magnitude: float32,\n",
              "    missing_energy_phi: float32,\n",
              "    jet1_pt: float32,\n",
              "    jet1_eta: float32,\n",
              "    jet1_phi: float32,\n",
              "    &quot;jet1_b-tag&quot;: float32,\n",
              "    jet2_pt: float32,\n",
              "    jet2_eta: float32,\n",
              "    jet2_phi: float32,\n",
              "    &quot;jet2_b-tag&quot;: float32,\n",
              "    jet3_pt: float32,\n",
              "    jet3_eta: float32,\n",
              "    jet3_phi: float32,\n",
              "    &quot;jet3_b-tag&quot;: float32,\n",
              "    jet4_pt: float32,\n",
              "    jet4_eta: float32,\n",
              "    jet4_phi: float32,\n",
              "    &quot;jet4_b-tag&quot;: float32,\n",
              "    m_jj: float32,\n",
              "    m_jjj: float32,\n",
              "    m_lv: float32,\n",
              "    m_jlv: float32,\n",
              "    m_bb: float32,\n",
              "    m_wbb: float32,\n",
              "    m_wwbb: float32\n",
              "}</pre>"
            ],
            "text/plain": [
              "<Array [{Type: 1, lepton_pT: 0.869, ...}, ...] type='10000 * {Type: float32...'>"
            ]
          },
          "metadata": {},
          "execution_count": 12
        }
      ]
    },
    {
      "cell_type": "code",
      "source": [],
      "metadata": {
        "id": "VnZNnU5A3sx3"
      },
      "execution_count": 13,
      "outputs": []
    },
    {
      "cell_type": "code",
      "source": [
        "# Özelliklerin listesini oluştur\n",
        "feature_names = ['Type', 'lepton_pT', 'lepton_eta', 'lepton_phi', 'missing_energy_magnitude', 'missing_energy_phi',\n",
        "                 'jet1_pt', 'jet1_eta', 'jet1_phi', 'jet1_b-tag', 'jet2_pt', 'jet2_eta', 'jet2_phi', 'jet2_b-tag',\n",
        "                 'jet3_pt', 'jet3_eta', 'jet3_phi', 'jet3_b-tag', 'jet4_pt', 'jet4_eta', 'jet4_phi', 'jet4_b-tag',\n",
        "                 'm_jj', 'm_jjj', 'm_lv', 'm_jlv', 'm_bb', 'm_wbb', 'm_wwbb']\n",
        "\n",
        "# Özellikleri numpy dizilerine dönüştür\n",
        "sig_data = np.array([sig_tree_branches[feature_name] for feature_name in feature_names]).T\n",
        "bkg_df = np.array([bkg_tree_branches[feature_name] for feature_name in feature_names]).T\n",
        "\n",
        "# Numpy dizilerini kullanarak DataFrame oluştur\n",
        "sig_df = pd.DataFrame(sig_data, columns=feature_names)\n",
        "bkg_df = pd.DataFrame(bkg_df, columns=feature_names)"
      ],
      "metadata": {
        "id": "itxpc8KD4z3q"
      },
      "execution_count": 33,
      "outputs": []
    },
    {
      "cell_type": "code",
      "source": [
        "sig_df.info()"
      ],
      "metadata": {
        "colab": {
          "base_uri": "https://localhost:8080/"
        },
        "id": "JMbOlvqq4Jvd",
        "outputId": "3394cc53-0960-4075-cc30-7b7d43248c1d"
      },
      "execution_count": 34,
      "outputs": [
        {
          "output_type": "stream",
          "name": "stdout",
          "text": [
            "<class 'pandas.core.frame.DataFrame'>\n",
            "RangeIndex: 10000 entries, 0 to 9999\n",
            "Data columns (total 29 columns):\n",
            " #   Column                    Non-Null Count  Dtype  \n",
            "---  ------                    --------------  -----  \n",
            " 0   Type                      10000 non-null  float32\n",
            " 1   lepton_pT                 10000 non-null  float32\n",
            " 2   lepton_eta                10000 non-null  float32\n",
            " 3   lepton_phi                10000 non-null  float32\n",
            " 4   missing_energy_magnitude  10000 non-null  float32\n",
            " 5   missing_energy_phi        10000 non-null  float32\n",
            " 6   jet1_pt                   10000 non-null  float32\n",
            " 7   jet1_eta                  10000 non-null  float32\n",
            " 8   jet1_phi                  10000 non-null  float32\n",
            " 9   jet1_b-tag                10000 non-null  float32\n",
            " 10  jet2_pt                   10000 non-null  float32\n",
            " 11  jet2_eta                  10000 non-null  float32\n",
            " 12  jet2_phi                  10000 non-null  float32\n",
            " 13  jet2_b-tag                10000 non-null  float32\n",
            " 14  jet3_pt                   10000 non-null  float32\n",
            " 15  jet3_eta                  10000 non-null  float32\n",
            " 16  jet3_phi                  10000 non-null  float32\n",
            " 17  jet3_b-tag                10000 non-null  float32\n",
            " 18  jet4_pt                   10000 non-null  float32\n",
            " 19  jet4_eta                  10000 non-null  float32\n",
            " 20  jet4_phi                  10000 non-null  float32\n",
            " 21  jet4_b-tag                10000 non-null  float32\n",
            " 22  m_jj                      10000 non-null  float32\n",
            " 23  m_jjj                     10000 non-null  float32\n",
            " 24  m_lv                      10000 non-null  float32\n",
            " 25  m_jlv                     10000 non-null  float32\n",
            " 26  m_bb                      10000 non-null  float32\n",
            " 27  m_wbb                     10000 non-null  float32\n",
            " 28  m_wwbb                    10000 non-null  float32\n",
            "dtypes: float32(29)\n",
            "memory usage: 1.1 MB\n"
          ]
        }
      ]
    },
    {
      "cell_type": "code",
      "source": [
        "# Signal ve background verilerini birleştirin\n",
        "merged_df = pd.concat([sig_df, bkg_df], ignore_index=True)\n",
        "\n",
        "# Veri setini karıştırın (shuffle)\n",
        "merged_df = merged_df.sample(frac=1).reset_index(drop=True)"
      ],
      "metadata": {
        "id": "LiAci4do5mta"
      },
      "execution_count": 35,
      "outputs": []
    },
    {
      "cell_type": "code",
      "source": [
        "merged_df.info()"
      ],
      "metadata": {
        "colab": {
          "base_uri": "https://localhost:8080/"
        },
        "id": "5PYRtjcO53Oe",
        "outputId": "f9b1d624-08aa-4b03-f0ff-7ed0ea4219ef"
      },
      "execution_count": 36,
      "outputs": [
        {
          "output_type": "stream",
          "name": "stdout",
          "text": [
            "<class 'pandas.core.frame.DataFrame'>\n",
            "RangeIndex: 20000 entries, 0 to 19999\n",
            "Data columns (total 29 columns):\n",
            " #   Column                    Non-Null Count  Dtype  \n",
            "---  ------                    --------------  -----  \n",
            " 0   Type                      20000 non-null  float32\n",
            " 1   lepton_pT                 20000 non-null  float32\n",
            " 2   lepton_eta                20000 non-null  float32\n",
            " 3   lepton_phi                20000 non-null  float32\n",
            " 4   missing_energy_magnitude  20000 non-null  float32\n",
            " 5   missing_energy_phi        20000 non-null  float32\n",
            " 6   jet1_pt                   20000 non-null  float32\n",
            " 7   jet1_eta                  20000 non-null  float32\n",
            " 8   jet1_phi                  20000 non-null  float32\n",
            " 9   jet1_b-tag                20000 non-null  float32\n",
            " 10  jet2_pt                   20000 non-null  float32\n",
            " 11  jet2_eta                  20000 non-null  float32\n",
            " 12  jet2_phi                  20000 non-null  float32\n",
            " 13  jet2_b-tag                20000 non-null  float32\n",
            " 14  jet3_pt                   20000 non-null  float32\n",
            " 15  jet3_eta                  20000 non-null  float32\n",
            " 16  jet3_phi                  20000 non-null  float32\n",
            " 17  jet3_b-tag                20000 non-null  float32\n",
            " 18  jet4_pt                   20000 non-null  float32\n",
            " 19  jet4_eta                  20000 non-null  float32\n",
            " 20  jet4_phi                  20000 non-null  float32\n",
            " 21  jet4_b-tag                20000 non-null  float32\n",
            " 22  m_jj                      20000 non-null  float32\n",
            " 23  m_jjj                     20000 non-null  float32\n",
            " 24  m_lv                      20000 non-null  float32\n",
            " 25  m_jlv                     20000 non-null  float32\n",
            " 26  m_bb                      20000 non-null  float32\n",
            " 27  m_wbb                     20000 non-null  float32\n",
            " 28  m_wwbb                    20000 non-null  float32\n",
            "dtypes: float32(29)\n",
            "memory usage: 2.2 MB\n"
          ]
        }
      ]
    },
    {
      "cell_type": "code",
      "source": [
        "merged_df['Type']"
      ],
      "metadata": {
        "colab": {
          "base_uri": "https://localhost:8080/"
        },
        "id": "Hlo63E0E54Ry",
        "outputId": "1941372b-75fa-4ed4-8a05-dfc5a54b94ad"
      },
      "execution_count": 37,
      "outputs": [
        {
          "output_type": "execute_result",
          "data": {
            "text/plain": [
              "0        1.0\n",
              "1        1.0\n",
              "2        1.0\n",
              "3        1.0\n",
              "4        0.0\n",
              "        ... \n",
              "19995    0.0\n",
              "19996    1.0\n",
              "19997    1.0\n",
              "19998    0.0\n",
              "19999    0.0\n",
              "Name: Type, Length: 20000, dtype: float32"
            ]
          },
          "metadata": {},
          "execution_count": 37
        }
      ]
    },
    {
      "cell_type": "code",
      "source": [
        "merged_df['Type'].unique()"
      ],
      "metadata": {
        "colab": {
          "base_uri": "https://localhost:8080/"
        },
        "id": "6wYAfFxqS-tw",
        "outputId": "0035a1a6-c903-4899-94f3-4348190d846e"
      },
      "execution_count": 47,
      "outputs": [
        {
          "output_type": "execute_result",
          "data": {
            "text/plain": [
              "array([1., 0.], dtype=float32)"
            ]
          },
          "metadata": {},
          "execution_count": 47
        }
      ]
    },
    {
      "cell_type": "code",
      "source": [
        "X = merged_df.drop(['Type'], axis = \"columns\")\n",
        "y = merged_df['Type']"
      ],
      "metadata": {
        "id": "xacPhi5NKWGm"
      },
      "execution_count": 38,
      "outputs": []
    },
    {
      "cell_type": "code",
      "source": [
        "y.info()"
      ],
      "metadata": {
        "colab": {
          "base_uri": "https://localhost:8080/"
        },
        "id": "FRmn4QRwKhbd",
        "outputId": "3b484d4c-194e-4dbb-f5dc-d6ff06855a39"
      },
      "execution_count": 39,
      "outputs": [
        {
          "output_type": "stream",
          "name": "stdout",
          "text": [
            "<class 'pandas.core.series.Series'>\n",
            "RangeIndex: 20000 entries, 0 to 19999\n",
            "Series name: Type\n",
            "Non-Null Count  Dtype  \n",
            "--------------  -----  \n",
            "20000 non-null  float32\n",
            "dtypes: float32(1)\n",
            "memory usage: 78.2 KB\n"
          ]
        }
      ]
    },
    {
      "cell_type": "code",
      "source": [
        "X.info()"
      ],
      "metadata": {
        "colab": {
          "base_uri": "https://localhost:8080/"
        },
        "id": "fOA_c9LqKiWh",
        "outputId": "7c84ce9d-00e8-4297-a7d7-9f6ae0c814db"
      },
      "execution_count": 40,
      "outputs": [
        {
          "output_type": "stream",
          "name": "stdout",
          "text": [
            "<class 'pandas.core.frame.DataFrame'>\n",
            "RangeIndex: 20000 entries, 0 to 19999\n",
            "Data columns (total 28 columns):\n",
            " #   Column                    Non-Null Count  Dtype  \n",
            "---  ------                    --------------  -----  \n",
            " 0   lepton_pT                 20000 non-null  float32\n",
            " 1   lepton_eta                20000 non-null  float32\n",
            " 2   lepton_phi                20000 non-null  float32\n",
            " 3   missing_energy_magnitude  20000 non-null  float32\n",
            " 4   missing_energy_phi        20000 non-null  float32\n",
            " 5   jet1_pt                   20000 non-null  float32\n",
            " 6   jet1_eta                  20000 non-null  float32\n",
            " 7   jet1_phi                  20000 non-null  float32\n",
            " 8   jet1_b-tag                20000 non-null  float32\n",
            " 9   jet2_pt                   20000 non-null  float32\n",
            " 10  jet2_eta                  20000 non-null  float32\n",
            " 11  jet2_phi                  20000 non-null  float32\n",
            " 12  jet2_b-tag                20000 non-null  float32\n",
            " 13  jet3_pt                   20000 non-null  float32\n",
            " 14  jet3_eta                  20000 non-null  float32\n",
            " 15  jet3_phi                  20000 non-null  float32\n",
            " 16  jet3_b-tag                20000 non-null  float32\n",
            " 17  jet4_pt                   20000 non-null  float32\n",
            " 18  jet4_eta                  20000 non-null  float32\n",
            " 19  jet4_phi                  20000 non-null  float32\n",
            " 20  jet4_b-tag                20000 non-null  float32\n",
            " 21  m_jj                      20000 non-null  float32\n",
            " 22  m_jjj                     20000 non-null  float32\n",
            " 23  m_lv                      20000 non-null  float32\n",
            " 24  m_jlv                     20000 non-null  float32\n",
            " 25  m_bb                      20000 non-null  float32\n",
            " 26  m_wbb                     20000 non-null  float32\n",
            " 27  m_wwbb                    20000 non-null  float32\n",
            "dtypes: float32(28)\n",
            "memory usage: 2.1 MB\n"
          ]
        }
      ]
    },
    {
      "cell_type": "markdown",
      "source": [
        "# Train Test Split"
      ],
      "metadata": {
        "id": "65im75VlUFLr"
      }
    },
    {
      "cell_type": "code",
      "source": [
        "X_train, X_test, y_train, y_test = train_test_split(X, y, test_size=0.3, random_state=26)"
      ],
      "metadata": {
        "id": "lz5ZTsNvKpGa"
      },
      "execution_count": 77,
      "outputs": []
    },
    {
      "cell_type": "markdown",
      "source": [
        "# LogisticRegression"
      ],
      "metadata": {
        "id": "50Oi1OGTTbow"
      }
    },
    {
      "cell_type": "code",
      "source": [
        "# Train\n",
        "logistic_regression = LogisticRegression()\n",
        "logistic_regression.fit(X_train, y_train)\n",
        "\n",
        "# Predict the target values for the test data\n",
        "y_prediction = logistic_regression.predict(X_test)"
      ],
      "metadata": {
        "id": "imtvlRh-LOk0"
      },
      "execution_count": 78,
      "outputs": []
    },
    {
      "cell_type": "code",
      "source": [
        "log_acc=accuracy_score(y_test, y_prediction)\n",
        "log_f1=f1_score(y_test, y_prediction)\n",
        "log_roc_auc=roc_auc_score(y_test, y_prediction)\n",
        "print(f'''Logistic Regression Model Evaluation Metrics:\n",
        "- Accuracy: {(log_acc * 100):.2f}%\n",
        "- F1 Score: {(log_f1 * 100):.2f}%\n",
        "- ROC AUC Score: {(log_roc_auc * 100):.2f}%\n",
        "''')"
      ],
      "metadata": {
        "colab": {
          "base_uri": "https://localhost:8080/"
        },
        "id": "U9qnTipiLSsr",
        "outputId": "1ab6edbd-8f6f-41a0-9369-6240ef74ff0a"
      },
      "execution_count": 79,
      "outputs": [
        {
          "output_type": "stream",
          "name": "stdout",
          "text": [
            "Logistic Regression Model Evaluation Metrics:\n",
            "- Accuracy: 64.60%\n",
            "- F1 Score: 65.64%\n",
            "- ROC AUC Score: 64.62%\n",
            "\n"
          ]
        }
      ]
    },
    {
      "cell_type": "markdown",
      "source": [
        "# RandomForestClassifier"
      ],
      "metadata": {
        "id": "MFKaxwwGUS3S"
      }
    },
    {
      "cell_type": "code",
      "source": [
        "# Train\n",
        "random_forest = RandomForestClassifier()\n",
        "random_forest.fit(X_train, y_train)\n",
        "\n",
        "# Predict the target values for the test data\n",
        "y_prediction_rf = random_forest.predict(X_test)"
      ],
      "metadata": {
        "id": "RHWWs1sNUVPu"
      },
      "execution_count": 80,
      "outputs": []
    },
    {
      "cell_type": "code",
      "source": [
        "rfc_acc=accuracy_score(y_test, y_prediction_rf)\n",
        "rfc_f1=f1_score(y_test, y_prediction_rf)\n",
        "rfc_roc_auc=roc_auc_score(y_test, y_prediction_rf)\n",
        "print(f'''Random Forest Classifier Model Evaluation Metrics:\n",
        "- Accuracy: {(rfc_acc * 100):.2f}%\n",
        "- F1 Score: {(rfc_f1 * 100):.2f}%\n",
        "- ROC AUC Score: {(rfc_roc_auc * 100):.2f}%\n",
        "''')"
      ],
      "metadata": {
        "colab": {
          "base_uri": "https://localhost:8080/"
        },
        "id": "IsEKVfUTUXMh",
        "outputId": "743a16fe-2b04-4856-993b-749f7056b15d"
      },
      "execution_count": 81,
      "outputs": [
        {
          "output_type": "stream",
          "name": "stdout",
          "text": [
            "Random Forest Classifier Model Evaluation Metrics:\n",
            "- Accuracy: 70.33%\n",
            "- F1 Score: 69.55%\n",
            "- ROC AUC Score: 70.32%\n",
            "\n"
          ]
        }
      ]
    },
    {
      "cell_type": "markdown",
      "source": [
        "# KNeighborsClassifier"
      ],
      "metadata": {
        "id": "fcvfFpfkUbcn"
      }
    },
    {
      "cell_type": "code",
      "source": [
        "test_score = []\n",
        "train_score = []\n",
        "\n",
        "for i in range(1, 20):\n",
        "    knn = KNeighborsClassifier(i)\n",
        "    knn.fit(X_train, y_train)\n",
        "    train_score.append(knn.score(X_train, y_train))\n",
        "    test_score.append(knn.score(X_test, y_test))\n",
        "\n",
        "# max scores\n",
        "max_train_score = max(train_score)\n",
        "train_score_ind = [i for i, v in enumerate(train_score) if v == max_train_score]\n",
        " \n",
        "max_test_score = max(test_score)\n",
        "test_score_ind = [i for i, v in enumerate(test_score) if v == max_test_score]\n",
        "\n",
        "\n",
        "print(f'Max Train Score : %{max_train_score * 100} - K : {list(map(lambda x: x+1, train_score_ind))}')\n",
        "print(f'Max Test Score : %{max_test_score * 100} - Best K : {list(map(lambda x: x+1, test_score_ind))}')\n",
        "\n",
        "# graph\n",
        "\n",
        "plt.figure(figsize=(12, 5))\n",
        "p = sns.lineplot(train_score, marker=\"*\", label=\"Train Score\")\n",
        "p = sns.lineplot(test_score, marker=\"o\", label=\"Test Score\")\n",
        "plt.show()"
      ],
      "metadata": {
        "colab": {
          "base_uri": "https://localhost:8080/",
          "height": 480
        },
        "id": "ZjXwZSRRUYa3",
        "outputId": "de3a1f4d-a887-4904-d6ea-aad95915b7e5"
      },
      "execution_count": 82,
      "outputs": [
        {
          "output_type": "stream",
          "name": "stdout",
          "text": [
            "Max Train Score : %100.0 - K : [1]\n",
            "Max Test Score : %57.41666666666667 - Best K : [15]\n"
          ]
        },
        {
          "output_type": "display_data",
          "data": {
            "text/plain": [
              "<Figure size 1200x500 with 1 Axes>"
            ],
            "image/png": "[encoded data removed]"
          },
          "metadata": {}
        }
      ]
    },
    {
      "cell_type": "code",
      "source": [
        "# Fit\n",
        "knn = KNeighborsClassifier(15)\n",
        "knn.fit(X_train, y_train)\n",
        "\n",
        "# prediction\n",
        "y_prediction_knn = knn.predict(X_test)"
      ],
      "metadata": {
        "id": "563BXolEUrDl"
      },
      "execution_count": 83,
      "outputs": []
    },
    {
      "cell_type": "code",
      "source": [
        "knn_acc=accuracy_score(y_test, y_prediction_knn)\n",
        "knn_f1=f1_score(y_test, y_prediction_knn)\n",
        "knn_roc_auc=roc_auc_score(y_test, y_prediction_knn)\n",
        "print(f'''K Neighbors Classifier Model Evaluation Metrics:\n",
        "- Accuracy: {(knn_acc * 100):.2f}%\n",
        "- F1 Score: {(knn_f1 * 100):.2f}%\n",
        "- ROC AUC Score: {(knn_roc_auc * 100):.2f}%\n",
        "''')"
      ],
      "metadata": {
        "colab": {
          "base_uri": "https://localhost:8080/"
        },
        "id": "t6Yk1EH_UsOh",
        "outputId": "90c324de-7ffa-4642-f83a-424982c52753"
      },
      "execution_count": 84,
      "outputs": [
        {
          "output_type": "stream",
          "name": "stdout",
          "text": [
            "K Neighbors Classifier Model Evaluation Metrics:\n",
            "- Accuracy: 57.42%\n",
            "- F1 Score: 60.12%\n",
            "- ROC AUC Score: 57.46%\n",
            "\n"
          ]
        }
      ]
    },
    {
      "cell_type": "markdown",
      "source": [
        "# GaussianNB"
      ],
      "metadata": {
        "id": "CQ1v6OEPUuyB"
      }
    },
    {
      "cell_type": "code",
      "source": [
        "# Train the Random Forest classifier\n",
        "gnb = GaussianNB()\n",
        "gnb.fit(X_train, y_train)\n",
        "\n",
        "# Predict the target values for the test data\n",
        "y_prediction_gnb = gnb.predict(X_test)"
      ],
      "metadata": {
        "id": "y9sEBprxUt0F"
      },
      "execution_count": 73,
      "outputs": []
    },
    {
      "cell_type": "code",
      "source": [
        "gnb_acc=accuracy_score(y_test, y_prediction_gnb)\n",
        "gnb_f1=f1_score(y_test, y_prediction_gnb)\n",
        "gnb_roc_auc=roc_auc_score(y_test, y_prediction_gnb)\n",
        "print(f'''GaussianNB Model Evaluation Metrics:\n",
        "- Accuracy: {(gnb_acc * 100):.2f}%\n",
        "- F1 Score: {(gnb_f1 * 100):.2f}%\n",
        "- ROC AUC Score: {(gnb_roc_auc * 100):.2f}%\n",
        "''')"
      ],
      "metadata": {
        "colab": {
          "base_uri": "https://localhost:8080/"
        },
        "id": "6YMJSv_UUccm",
        "outputId": "429ecb26-941a-4533-ca3d-7996f2a0c965"
      },
      "execution_count": 74,
      "outputs": [
        {
          "output_type": "stream",
          "name": "stdout",
          "text": [
            "GaussianNB Model Evaluation Metrics:\n",
            "- Accuracy: 58.70%\n",
            "- F1 Score: 66.48%\n",
            "- ROC AUC Score: 58.63%\n",
            "\n"
          ]
        }
      ]
    },
    {
      "cell_type": "markdown",
      "source": [
        "#Keras DL"
      ],
      "metadata": {
        "id": "TpI12TlwZaww"
      }
    },
    {
      "cell_type": "code",
      "source": [
        "import tensorflow as tf\n",
        "from tensorflow.keras import layers"
      ],
      "metadata": {
        "id": "9CoguVKEWweG"
      },
      "execution_count": 114,
      "outputs": []
    },
    {
      "cell_type": "code",
      "source": [
        "model = keras.Sequential([\n",
        "    keras.Input(shape=(28,)),\n",
        "    layers.Dense(64, activation='relu'),\n",
        "    layers.Dense(64, activation='relu'),\n",
        "    layers.Dense(64, activation='relu'),\n",
        "    layers.Dense(64, activation='relu'),\n",
        "    layers.Dense(1),\n",
        "])"
      ],
      "metadata": {
        "id": "2elSFPaHYchR"
      },
      "execution_count": 115,
      "outputs": []
    },
    {
      "cell_type": "code",
      "source": [
        "print(model.summary())"
      ],
      "metadata": {
        "colab": {
          "base_uri": "https://localhost:8080/"
        },
        "id": "Zl3Ofa35ZEII",
        "outputId": "b79bf016-59ff-49c1-fb0c-6bd78267956e"
      },
      "execution_count": 107,
      "outputs": [
        {
          "output_type": "stream",
          "name": "stdout",
          "text": [
            "Model: \"sequential_6\"\n",
            "_________________________________________________________________\n",
            " Layer (type)                Output Shape              Param #   \n",
            "=================================================================\n",
            " dense_20 (Dense)            (None, 64)                1856      \n",
            "                                                                 \n",
            " dense_21 (Dense)            (None, 64)                4160      \n",
            "                                                                 \n",
            " dense_22 (Dense)            (None, 64)                4160      \n",
            "                                                                 \n",
            " dense_23 (Dense)            (None, 64)                4160      \n",
            "                                                                 \n",
            " dense_24 (Dense)            (None, 1)                 65        \n",
            "                                                                 \n",
            "=================================================================\n",
            "Total params: 14,401\n",
            "Trainable params: 14,401\n",
            "Non-trainable params: 0\n",
            "_________________________________________________________________\n",
            "None\n"
          ]
        }
      ]
    },
    {
      "cell_type": "code",
      "source": [
        "model.compile(optimizer='adam',\n",
        "              loss='binary_crossentropy',\n",
        "              metrics=['accuracy'])\n",
        "     "
      ],
      "metadata": {
        "id": "IWvoz9LMXNqX"
      },
      "execution_count": 108,
      "outputs": []
    },
    {
      "cell_type": "code",
      "source": [
        "model.fit(X_train, y_train, epochs=10, validation_data=(X_test, y_test))"
      ],
      "metadata": {
        "colab": {
          "base_uri": "https://localhost:8080/"
        },
        "id": "9qE_G-O2XRyH",
        "outputId": "5e3c4794-9453-4923-a883-a7b20037f604"
      },
      "execution_count": 109,
      "outputs": [
        {
          "output_type": "stream",
          "name": "stdout",
          "text": [
            "Epoch 1/10\n",
            "438/438 [==============================] - 2s 3ms/step - loss: 0.6777 - accuracy: 0.5589 - val_loss: 0.6761 - val_accuracy: 0.5593\n",
            "Epoch 2/10\n",
            "438/438 [==============================] - 1s 3ms/step - loss: 0.6462 - accuracy: 0.6196 - val_loss: 0.6491 - val_accuracy: 0.6140\n",
            "Epoch 3/10\n",
            "438/438 [==============================] - 2s 4ms/step - loss: 0.6273 - accuracy: 0.6449 - val_loss: 0.6453 - val_accuracy: 0.6268\n",
            "Epoch 4/10\n",
            "438/438 [==============================] - 2s 4ms/step - loss: 0.6172 - accuracy: 0.6595 - val_loss: 0.6361 - val_accuracy: 0.6370\n",
            "Epoch 5/10\n",
            "438/438 [==============================] - 2s 4ms/step - loss: 0.6067 - accuracy: 0.6662 - val_loss: 0.6402 - val_accuracy: 0.6360\n",
            "Epoch 6/10\n",
            "438/438 [==============================] - 1s 3ms/step - loss: 0.6011 - accuracy: 0.6729 - val_loss: 0.6359 - val_accuracy: 0.6437\n",
            "Epoch 7/10\n",
            "438/438 [==============================] - 1s 3ms/step - loss: 0.5901 - accuracy: 0.6822 - val_loss: 0.6330 - val_accuracy: 0.6463\n",
            "Epoch 8/10\n",
            "438/438 [==============================] - 1s 3ms/step - loss: 0.5802 - accuracy: 0.6935 - val_loss: 0.6410 - val_accuracy: 0.6452\n",
            "Epoch 9/10\n",
            "438/438 [==============================] - 1s 3ms/step - loss: 0.5731 - accuracy: 0.6990 - val_loss: 0.6574 - val_accuracy: 0.6392\n",
            "Epoch 10/10\n",
            "438/438 [==============================] - 2s 4ms/step - loss: 0.5635 - accuracy: 0.7071 - val_loss: 0.6715 - val_accuracy: 0.6185\n"
          ]
        },
        {
          "output_type": "execute_result",
          "data": {
            "text/plain": [
              "<keras.callbacks.History at 0x7fc4fdd5e0b0>"
            ]
          },
          "metadata": {},
          "execution_count": 109
        }
      ]
    },
    {
      "cell_type": "code",
      "source": [
        "loss, accuracy = model.evaluate(X_test, y_test)\n",
        "print(\"Test set loss: \", loss)\n",
        "print(\"Test set accuracy: \", accuracy)"
      ],
      "metadata": {
        "colab": {
          "base_uri": "https://localhost:8080/"
        },
        "id": "uiOjnBpBXUwn",
        "outputId": "14bf5e3f-5a3c-476f-f759-00e0a5435613"
      },
      "execution_count": 110,
      "outputs": [
        {
          "output_type": "stream",
          "name": "stdout",
          "text": [
            "188/188 [==============================] - 0s 2ms/step - loss: 0.6715 - accuracy: 0.6185\n",
            "Test set loss:  0.6714657545089722\n",
            "Test set accuracy:  0.6184999942779541\n"
          ]
        }
      ]
    },
    {
      "cell_type": "markdown",
      "source": [
        "# Roc Eğrileri Grafiği"
      ],
      "metadata": {
        "id": "4TzkD8eSU4-a"
      }
    },
    {
      "cell_type": "code",
      "source": [
        "# lojistik regresyon ROC eğrisi\n",
        "y_probs_log = logistic_regression.predict_proba(X_test)[:,1]\n",
        "FPR_log, TPR_log, _ = roc_curve(y_test, y_probs_log)\n",
        "\n",
        "# rastgele orman ROC eğrisi\n",
        "y_probs_rf = random_forest.predict_proba(X_test)[:,1]\n",
        "FPR_rf, TPR_rf, _ = roc_curve(y_test, y_probs_rf)\n",
        "\n",
        "# KNN ROC eğrisi\n",
        "y_probs_knn = knn.predict_proba(X_test)[:,1]\n",
        "FPR_knn, TPR_knn, _ = roc_curve(y_test, y_probs_knn)\n",
        "\n",
        "# KNN ROC eğrisi\n",
        "y_probs_gnb = gnb.predict_proba(X_test)[:,1]\n",
        "FPR_gnb, TPR_gnb, _ = roc_curve(y_test, y_probs_gnb)\n",
        "\n",
        "# Keras model ROC eğrisi\n",
        "y_probs_model = model.predict(X_test)\n",
        "fpr_model, tpr_model, _ = roc_curve(y_test, y_probs_model)\n",
        "roc_auc_model = auc(fpr_model, tpr_model)\n",
        "\n",
        "# tek bir grafikte üç ROC eğrisi çizimi\n",
        "fig, ax = plt.subplots(figsize = (8,6))\n",
        "plt.plot(FPR_log, TPR_log, label='Lojistik Regresyon')\n",
        "plt.plot(FPR_rf, TPR_rf, label='Random Forest')\n",
        "plt.plot(FPR_knn, TPR_knn, label='KNN')\n",
        "plt.plot(FPR_gnb, TPR_gnb, label='GNB')\n",
        "plt.plot(fpr_model, tpr_model, label='Keras Model (AUC = %0.2f)' % roc_auc_model)\n",
        "plt.plot([0,1], [0,1], '--')\n",
        "plt.xlabel('Yanlış Pozitif Oran')\n",
        "plt.ylabel('Doğru Pozitif Oran')\n",
        "plt.title('ROC Eğrileri')\n",
        "plt.legend()\n",
        "plt.show()"
      ],
      "metadata": {
        "colab": {
          "base_uri": "https://localhost:8080/",
          "height": 581
        },
        "id": "z2BDfGVYU2sM",
        "outputId": "b2a579d4-89e1-42f9-fdf0-42af982c93b5"
      },
      "execution_count": 113,
      "outputs": [
        {
          "output_type": "stream",
          "name": "stdout",
          "text": [
            "188/188 [==============================] - 1s 3ms/step\n"
          ]
        },
        {
          "output_type": "display_data",
          "data": {
            "text/plain": [
              "<Figure size 800x600 with 1 Axes>"
            ],
            "image/png": "[encoded data removed]"
          },
          "metadata": {}
        }
      ]
    },
    {
      "cell_type": "code",
      "source": [],
      "metadata": {
        "id": "hHFQ4YMobVLd"
      },
      "execution_count": null,
      "outputs": []
    }
  ]
}